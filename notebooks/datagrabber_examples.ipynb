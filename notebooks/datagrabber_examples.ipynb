{
 "cells": [
  {
   "cell_type": "code",
   "execution_count": 1,
   "metadata": {
    "collapsed": true
   },
   "outputs": [],
   "source": [
    "import os\n",
    "import nipype.interfaces.io as nio\n"
   ]
  },
  {
   "cell_type": "code",
   "execution_count": 2,
   "metadata": {
    "collapsed": false
   },
   "outputs": [
    {
     "name": "stdout",
     "output_type": "stream",
     "text": [
      "/home/brain/nipype/notebooks\n",
      "['Untitled1.ipynb', 'chao.txt', 'ds107', 'Untitled.ipynb', 'Untitled1-Copy2.ipynb', '.ipynb_checkpoints', 'hola.txt', 'Untitled1-Copy1.ipynb']\n"
     ]
    }
   ],
   "source": [
    "print os.getcwd()\n",
    "print os.listdir('.')"
   ]
  },
  {
   "cell_type": "code",
   "execution_count": 3,
   "metadata": {
    "collapsed": false
   },
   "outputs": [],
   "source": [
    "dg1 = nio.DataGrabber()\n",
    "dg1.inputs.base_directory= os.getcwd()\n",
    "dg1.inputs.sort_filelist = True"
   ]
  },
  {
   "cell_type": "code",
   "execution_count": 4,
   "metadata": {
    "collapsed": false
   },
   "outputs": [],
   "source": [
    "dg1.inputs.template = '*.txt'\n",
    "#dg.inputs.template_args['outfiles']=[['hola']]\n",
    "#dg.inputs.template_args['outfiles']=[['*']]"
   ]
  },
  {
   "cell_type": "code",
   "execution_count": 6,
   "metadata": {
    "collapsed": false
   },
   "outputs": [
    {
     "data": {
      "text/plain": [
       "\n",
       "outfiles = ['/home/brain/nipype/notebooks/chao.txt', '/home/brain/nipype/notebooks/hola.txt']"
      ]
     },
     "execution_count": 6,
     "metadata": {},
     "output_type": "execute_result"
    }
   ],
   "source": [
    "dg1.run().outputs"
   ]
  },
  {
   "cell_type": "code",
   "execution_count": null,
   "metadata": {
    "collapsed": true
   },
   "outputs": [],
   "source": [
    "# Dynamic fields"
   ]
  },
  {
   "cell_type": "code",
   "execution_count": 27,
   "metadata": {
    "collapsed": true
   },
   "outputs": [],
   "source": [
    "dg2 = nio.DataGrabber(infields=['sub_id', 'run_id'], \n",
    "                     outfields=['func', 'struct'])\n"
   ]
  },
  {
   "cell_type": "code",
   "execution_count": 28,
   "metadata": {
    "collapsed": false
   },
   "outputs": [],
   "source": [
    "dg2.inputs.base_directory = os.path.abspath('ds107')"
   ]
  },
  {
   "cell_type": "code",
   "execution_count": 29,
   "metadata": {
    "collapsed": false
   },
   "outputs": [],
   "source": [
    "dg2.inputs.sort_filelist = True"
   ]
  },
  {
   "cell_type": "code",
   "execution_count": 30,
   "metadata": {
    "collapsed": true
   },
   "outputs": [],
   "source": [
    "#dg2.inputs.sub_id = 'sub001'"
   ]
  },
  {
   "cell_type": "code",
   "execution_count": 31,
   "metadata": {
    "collapsed": true
   },
   "outputs": [],
   "source": [
    "dg2.inputs.template = '*'"
   ]
  },
  {
   "cell_type": "code",
   "execution_count": 32,
   "metadata": {
    "collapsed": false
   },
   "outputs": [
    {
     "data": {
      "text/plain": [
       "{'func': [['sub_id', 'run_id']], 'struct': [['sub_id']]}"
      ]
     },
     "execution_count": 32,
     "metadata": {},
     "output_type": "execute_result"
    }
   ],
   "source": [
    "dg2.inputs.template_args = {'func': [['sub_id','run_id']],\n",
    "                           'struct':[['sub_id']]}\n",
    "dg2.inputs.template_args"
   ]
  },
  {
   "cell_type": "code",
   "execution_count": 41,
   "metadata": {
    "collapsed": false
   },
   "outputs": [
    {
     "data": {
      "text/plain": [
       "{'func': '%s/BOLD/task001_run%03d/bold.nii.gz',\n",
       " 'struct': '%s/anatomy/highres*.nii.gz'}"
      ]
     },
     "execution_count": 41,
     "metadata": {},
     "output_type": "execute_result"
    }
   ],
   "source": [
    "# template for something like (base_dir)/sub001/BOLD/task001_run002/bold.nii.gz\n",
    "dg2.inputs.field_template = {'func': '%s/BOLD/task001_run%03d/bold.nii.gz',\n",
    "                            'struct': '%s/anatomy/highres*.nii.gz'}\n",
    "dg2.inputs.field_template"
   ]
  },
  {
   "cell_type": "code",
   "execution_count": 42,
   "metadata": {
    "collapsed": true
   },
   "outputs": [],
   "source": [
    "# dg2.inputs.template_args['sub_id'] = [['sub001']]\n",
    "# dg2.inputs.template_args['run_id'] = [[]]\n",
    "# dg2.inputs.field_template = dict(struct='%s/struct.nii', name=value)"
   ]
  },
  {
   "cell_type": "code",
   "execution_count": 43,
   "metadata": {
    "collapsed": false
   },
   "outputs": [],
   "source": [
    "dg2.inputs.sub_id = ['sub001', 'sub049']\n",
    "dg2.inputs.run_id = 1"
   ]
  },
  {
   "cell_type": "code",
   "execution_count": 44,
   "metadata": {
    "collapsed": false
   },
   "outputs": [
    {
     "data": {
      "text/plain": [
       "\n",
       "func = ['/home/brain/nipype/notebooks/ds107/sub001/BOLD/task001_run001/bold.nii.gz', '/home/brain/nipype/notebooks/ds107/sub049/BOLD/task001_run001/bold.nii.gz']\n",
       "struct = ['/home/brain/nipype/notebooks/ds107/sub001/anatomy/highres001.nii.gz', '/home/brain/nipype/notebooks/ds107/sub049/anatomy/highres001.nii.gz']"
      ]
     },
     "execution_count": 44,
     "metadata": {},
     "output_type": "execute_result"
    }
   ],
   "source": [
    "dg2.run().outputs"
   ]
  },
  {
   "cell_type": "code",
   "execution_count": 45,
   "metadata": {
    "collapsed": false
   },
   "outputs": [
    {
     "data": {
      "text/plain": [
       "\n",
       "func = ['/home/brain/nipype/notebooks/ds107/sub001/BOLD/task001_run001/bold.nii.gz', '/home/brain/nipype/notebooks/ds107/sub001/BOLD/task001_run002/bold.nii.gz']\n",
       "struct = /home/brain/nipype/notebooks/ds107/sub001/anatomy/highres001.nii.gz"
      ]
     },
     "execution_count": 45,
     "metadata": {},
     "output_type": "execute_result"
    }
   ],
   "source": [
    "dg2.inputs.sub_id = 'sub001'\n",
    "dg2.inputs.run_id = [1,2]\n",
    "dg2.run().outputs"
   ]
  },
  {
   "cell_type": "code",
   "execution_count": null,
   "metadata": {
    "collapsed": true
   },
   "outputs": [],
   "source": []
  }
 ],
 "metadata": {
  "kernelspec": {
   "display_name": "Python 2",
   "language": "python",
   "name": "python2"
  },
  "language_info": {
   "codemirror_mode": {
    "name": "ipython",
    "version": 2
   },
   "file_extension": ".py",
   "mimetype": "text/x-python",
   "name": "python",
   "nbconvert_exporter": "python",
   "pygments_lexer": "ipython2",
   "version": "2.7.10"
  }
 },
 "nbformat": 4,
 "nbformat_minor": 0
}
