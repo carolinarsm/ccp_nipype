{
 "cells": [
  {
   "cell_type": "code",
   "execution_count": 1,
   "metadata": {
    "collapsed": false
   },
   "outputs": [
    {
     "name": "stdout",
     "output_type": "stream",
     "text": [
      "/home/brain/nipype/ccp/DATA\n",
      "['mean+orig.HEAD', 'mask_001+orig.HEAD', 'run002+orig.BRIK', 'run002+orig.HEAD', 'run001+orig.BRIK', 'sub003', 'automask', 'sub001', 'union', 'mean', 'run001+orig.HEAD', 'mask_002+orig.BRIK', 'my_workflow', 'scale', 'mean+orig.BRIK', 'mask_002+orig.HEAD', 'mask_001+orig.BRIK']\n"
     ]
    }
   ],
   "source": [
    "import os\n",
    "from nipype.interfaces import afni as afni\n",
    "import nipype.pipeline.engine as pe \n",
    "import nipype.interfaces.io as nio\n",
    "import nipype.interfaces.utility as util\n",
    "\n",
    "import warnings\n",
    "import re\n",
    "import sys\n",
    "from nipype.interfaces.afni.base import AFNICommand, AFNICommandInputSpec\n",
    "from nipype.interfaces.base import CommandLineInputSpec, CommandLine, TraitedSpec, traits, File, InputMultiPath, \\\n",
    "    isdefined\n",
    "\n",
    "data_dir = os.path.abspath('../DATA')\n",
    "print data_dir\n",
    "print os.listdir(data_dir)\n",
    "import glob"
   ]
  },
  {
   "cell_type": "code",
   "execution_count": 2,
   "metadata": {
    "collapsed": true
   },
   "outputs": [],
   "source": [
    "# NODE\n",
    "# 3dTcat -prefix infile"
   ]
  },
  {
   "cell_type": "code",
   "execution_count": 2,
   "metadata": {
    "collapsed": false
   },
   "outputs": [],
   "source": [
    "tcat = pe.Node(interface=afni.TCat(),\n",
    "              name='tcat')"
   ]
  },
  {
   "cell_type": "code",
   "execution_count": 3,
   "metadata": {
    "collapsed": false
   },
   "outputs": [
    {
     "data": {
      "text/plain": [
       "\n",
       "args = <undefined>\n",
       "environ = {}\n",
       "ignore_exception = False\n",
       "in_files = ['/home/brain/nipype/ccp/DATA/run001+orig.BRIK']\n",
       "out_file = tcat\n",
       "outputtype = AFNI\n",
       "rlt = <undefined>\n",
       "terminal_output = stream"
      ]
     },
     "execution_count": 3,
     "metadata": {},
     "output_type": "execute_result"
    }
   ],
   "source": [
    "tcat.base_dir = data_dir\n",
    "tcat.inputs.out_file = 'tcat'\n",
    "tcat.inputs.in_files = os.path.abspath('../DATA/run001+orig.BRIK')\n",
    "tcat.inputs"
   ]
  },
  {
   "cell_type": "code",
   "execution_count": 4,
   "metadata": {
    "collapsed": false
   },
   "outputs": [
    {
     "data": {
      "text/plain": [
       "'3dTcat -prefix tcat  /home/brain/nipype/ccp/DATA/run001+orig.BRIK'"
      ]
     },
     "execution_count": 4,
     "metadata": {},
     "output_type": "execute_result"
    }
   ],
   "source": [
    "tcat.interface.cmdline"
   ]
  },
  {
   "cell_type": "code",
   "execution_count": 5,
   "metadata": {
    "collapsed": false
   },
   "outputs": [
    {
     "name": "stderr",
     "output_type": "stream",
     "text": [
      "INFO:workflow:Executing node tcat in dir: /home/brain/nipype/ccp/DATA/tcat\n",
      "INFO:workflow:Running: 3dTcat -prefix tcat  /home/brain/nipype/ccp/DATA/tcat/run001+orig.BRIK\n",
      "INFO:interface:stderr 2016-02-09T16:03:11.480115:++ 3dTcat: AFNI version=AFNI_2011_12_21_1014 (Dec 27 2014) [64-bit]\n"
     ]
    }
   ],
   "source": [
    "res = tcat.run()"
   ]
  },
  {
   "cell_type": "code",
   "execution_count": 6,
   "metadata": {
    "collapsed": false
   },
   "outputs": [
    {
     "data": {
      "text/plain": [
       "\n",
       "out_file = /home/brain/nipype/ccp/DATA/tcat/tcat+orig.BRIK"
      ]
     },
     "execution_count": 6,
     "metadata": {},
     "output_type": "execute_result"
    }
   ],
   "source": [
    "res.outputs"
   ]
  },
  {
   "cell_type": "code",
   "execution_count": null,
   "metadata": {
    "collapsed": true
   },
   "outputs": [],
   "source": []
  }
 ],
 "metadata": {
  "kernelspec": {
   "display_name": "Python 2",
   "language": "python",
   "name": "python2"
  },
  "language_info": {
   "codemirror_mode": {
    "name": "ipython",
    "version": 2
   },
   "file_extension": ".py",
   "mimetype": "text/x-python",
   "name": "python",
   "nbconvert_exporter": "python",
   "pygments_lexer": "ipython2",
   "version": "2.7.10"
  }
 },
 "nbformat": 4,
 "nbformat_minor": 0
}
