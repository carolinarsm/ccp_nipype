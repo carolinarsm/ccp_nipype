{
 "cells": [
  {
   "cell_type": "code",
   "execution_count": 1,
   "metadata": {
    "collapsed": false
   },
   "outputs": [
    {
     "data": {
      "text/plain": [
       "'/home/brain/nipype/ccp/myafni'"
      ]
     },
     "execution_count": 1,
     "metadata": {},
     "output_type": "execute_result"
    }
   ],
   "source": [
    "## GLM WORKING EXAMPLE\n",
    "\n",
    "import warnings\n",
    "import os\n",
    "import re\n",
    "import sys\n",
    "from nipype.interfaces.afni.base import AFNICommand, AFNICommandInputSpec\n",
    "from nipype.interfaces.base import CommandLineInputSpec, CommandLine, TraitedSpec, traits, File, InputMultiPath, \\\n",
    "    isdefined\n",
    "wd = os.getcwd()\n",
    "wd"
   ]
  },
  {
   "cell_type": "code",
   "execution_count": 2,
   "metadata": {
    "collapsed": true
   },
   "outputs": [],
   "source": [
    "from interfaces import CCPDeconvolve, OneDTool, NiiInfo"
   ]
  },
  {
   "cell_type": "code",
   "execution_count": 3,
   "metadata": {
    "collapsed": false
   },
   "outputs": [
    {
     "data": {
      "text/plain": [
       "['afni_data.tar.gz',\n",
       " 'anat+tlrc.BRIK',\n",
       " 'anat+tlrc.HEAD',\n",
       " 'LWMC_CONGRUENT.txt',\n",
       " 'LWMC_INCONGRUENT.txt',\n",
       " 'LWMC_PC50_C.txt',\n",
       " 'LWMC_PC50_I.txt',\n",
       " 'LWMI_CONGRUENT.txt',\n",
       " 'LWMI_INCONGRUENT.txt',\n",
       " 'LWMI_PC50_C.txt',\n",
       " 'LWMI_PC50_I.txt',\n",
       " 'Movement_Regressors_ALL.txt',\n",
       " 'pb01.ST015.r01.scale+tlrc.BRIK',\n",
       " 'pb01.ST015.r01.scale+tlrc.HEAD',\n",
       " 'pb01.ST015.r02.scale+tlrc.BRIK',\n",
       " 'pb01.ST015.r02.scale+tlrc.HEAD',\n",
       " 'pb01.ST015.r03.scale+tlrc.BRIK',\n",
       " 'pb01.ST015.r03.scale+tlrc.HEAD',\n",
       " 'pb01.ST015.r04.scale+tlrc.BRIK',\n",
       " 'pb01.ST015.r04.scale+tlrc.HEAD',\n",
       " 'ts_CONGRUENT.txt',\n",
       " 'ts_INCONGRUENT.txt',\n",
       " 'ts_PC50_C.txt',\n",
       " 'ts_PC50_I.txt']"
      ]
     },
     "execution_count": 3,
     "metadata": {},
     "output_type": "execute_result"
    }
   ],
   "source": [
    "datadir = '/media/sf_carola/devdir/nipype/DATA/'\n",
    "os.chdir(datadir)\n",
    "os.listdir('.')"
   ]
  },
  {
   "cell_type": "code",
   "execution_count": 16,
   "metadata": {
    "collapsed": false
   },
   "outputs": [],
   "source": [
    "glm = CCPDeconvolve()\n",
    "#glm.help()"
   ]
  },
  {
   "cell_type": "code",
   "execution_count": 17,
   "metadata": {
    "collapsed": false
   },
   "outputs": [],
   "source": [
    "glm.inputs.in_file = [ 'pb01.ST015.r01.scale+tlrc.HEAD' , 'pb01.ST015.r02.scale+tlrc.HEAD', 'pb01.ST015.r03.scale+tlrc.HEAD', 'pb01.ST015.r04.scale+tlrc.HEAD']\n",
    "glm.inputs.polort = 5\n",
    "glm.inputs.out_file = 'X'\n",
    "#glm.inputs.xmat_only = True\n",
    "glm.inputs.args = '-GOFORIT 10'\n",
    "#glm.inputs.output_prefix = 'stats'"
   ]
  },
  {
   "cell_type": "code",
   "execution_count": 18,
   "metadata": {
    "collapsed": false
   },
   "outputs": [],
   "source": [
    "glm.inputs.num_stimts = 2\n",
    "glm.inputs.stimulus = True\n",
    "glm.inputs.stim_times=['ts_CONGRUENT.txt', 'ts_INCONGRUENT.txt']\n",
    "glm.inputs.stim_labels=['congruent', 'incongruent']\n",
    "glm.inputs.options = '-x1D_stop'"
   ]
  },
  {
   "cell_type": "code",
   "execution_count": 19,
   "metadata": {
    "collapsed": true
   },
   "outputs": [],
   "source": [
    "#glm.inputs.glm_contrasts = ['congruent -incongruent']\n",
    "#glm.inputs.glm_labels = ['diff_pos']\n",
    "#glm.inputs.glms = True"
   ]
  },
  {
   "cell_type": "code",
   "execution_count": 20,
   "metadata": {
    "collapsed": false
   },
   "outputs": [
    {
     "data": {
      "text/plain": [
       "\n",
       "args = -GOFORIT 10\n",
       "censor_list = <undefined>\n",
       "environ = {}\n",
       "glm_contrasts = <undefined>\n",
       "glm_labels = <undefined>\n",
       "glms = <undefined>\n",
       "ignore_exception = False\n",
       "in_file = ['pb01.ST015.r01.scale+tlrc.HEAD', 'pb01.ST015.r02.scale+tlrc.HEAD', 'pb01.ST015.r03.scale+tlrc.HEAD', 'pb01.ST015.r04.scale+tlrc.HEAD']\n",
       "mask = <undefined>\n",
       "model = <undefined>\n",
       "motion_regs = <undefined>\n",
       "num_stimts = 2\n",
       "options = -x1D_stop\n",
       "out_file = X\n",
       "output_prefix = <undefined>\n",
       "outputtype = AFNI\n",
       "polort = 5\n",
       "stim_labels = ['congruent', 'incongruent']\n",
       "stim_times = ['ts_CONGRUENT.txt', 'ts_INCONGRUENT.txt']\n",
       "stimulus = True\n",
       "terminal_output = stream\n",
       "xmat_only = <undefined>"
      ]
     },
     "execution_count": 20,
     "metadata": {},
     "output_type": "execute_result"
    }
   ],
   "source": [
    "glm.inputs"
   ]
  },
  {
   "cell_type": "code",
   "execution_count": 21,
   "metadata": {
    "collapsed": false
   },
   "outputs": [
    {
     "data": {
      "text/plain": [
       "\"3dDeconvolve -x1D_stop -input 'pb01.ST015.r01.scale+tlrc.HEAD pb01.ST015.r02.scale+tlrc.HEAD pb01.ST015.r03.scale+tlrc.HEAD pb01.ST015.r04.scale+tlrc.HEAD' -polort 5 -num_stimts 2 -stim_times 1 ts_CONGRUENT.txt 'BLOCK(0.72,1)' -stim_label 1 congruent -stim_times 2 ts_INCONGRUENT.txt 'BLOCK(0.72,1)' -stim_label 2 incongruent -GOFORIT 10 -x1D X\""
      ]
     },
     "execution_count": 21,
     "metadata": {},
     "output_type": "execute_result"
    }
   ],
   "source": [
    "glm.inputs.model = 'BLOCK(0.72,1)'\n",
    "glm.cmdline"
   ]
  },
  {
   "cell_type": "code",
   "execution_count": 23,
   "metadata": {
    "collapsed": false
   },
   "outputs": [
    {
     "name": "stderr",
     "output_type": "stream",
     "text": [
      "INFO:interface:stderr 2016-02-02T16:04:45.929641:++ No '-bucket' option given ==> using '-bucket Decon'\n",
      "INFO:interface:stderr 2016-02-02T16:04:45.937622:++ 3dDeconvolve: AFNI version=AFNI_2011_12_21_1014 (Dec 27 2014) [64-bit]\n",
      "INFO:interface:stderr 2016-02-02T16:04:45.939242:++ Authored by: B. Douglas Ward, et al.\n",
      "INFO:interface:stderr 2016-02-02T16:04:46.007090:++ Auto-catenated input datasets treated as multiple imaging runs\n",
      "INFO:interface:stderr 2016-02-02T16:04:46.016092:++ Auto-catenated datasets start at:  0 952 1884 2816\n",
      "INFO:interface:stderr 2016-02-02T16:06:10.661982:Killed\n"
     ]
    },
    {
     "ename": "RuntimeError",
     "evalue": "Command:\n3dDeconvolve -x1D_stop -input 'pb01.ST015.r01.scale+tlrc.HEAD pb01.ST015.r02.scale+tlrc.HEAD pb01.ST015.r03.scale+tlrc.HEAD pb01.ST015.r04.scale+tlrc.HEAD' -polort 5 -num_stimts 2 -stim_times 1 ts_CONGRUENT.txt 'BLOCK(0.72,1)' -stim_label 1 congruent -stim_times 2 ts_INCONGRUENT.txt 'BLOCK(0.72,1)' -stim_label 2 incongruent -GOFORIT 10 -x1D X\nStandard output:\n\nStandard error:\n++ No '-bucket' option given ==> using '-bucket Decon'\n++ 3dDeconvolve: AFNI version=AFNI_2011_12_21_1014 (Dec 27 2014) [64-bit]\n++ Authored by: B. Douglas Ward, et al.\n++ Auto-catenated input datasets treated as multiple imaging runs\n++ Auto-catenated datasets start at:  0 952 1884 2816\nKilled\nReturn code: 137\nInterface CCPDeconvolve failed to run. ",
     "output_type": "error",
     "traceback": [
      "\u001b[1;31m---------------------------------------------------------------------------\u001b[0m",
      "\u001b[1;31mRuntimeError\u001b[0m                              Traceback (most recent call last)",
      "\u001b[1;32m<ipython-input-23-c8b04c1f7e59>\u001b[0m in \u001b[0;36m<module>\u001b[1;34m()\u001b[0m\n\u001b[1;32m----> 1\u001b[1;33m \u001b[0mglm\u001b[0m\u001b[1;33m.\u001b[0m\u001b[0mrun\u001b[0m\u001b[1;33m(\u001b[0m\u001b[1;33m)\u001b[0m\u001b[1;33m\u001b[0m\u001b[0m\n\u001b[0m",
      "\u001b[1;32m/home/brain/anaconda/lib/python2.7/site-packages/nipype/interfaces/base.pyc\u001b[0m in \u001b[0;36mrun\u001b[1;34m(self, **inputs)\u001b[0m\n\u001b[0;32m   1031\u001b[0m                         version=self.version)\n\u001b[0;32m   1032\u001b[0m         \u001b[1;32mtry\u001b[0m\u001b[1;33m:\u001b[0m\u001b[1;33m\u001b[0m\u001b[0m\n\u001b[1;32m-> 1033\u001b[1;33m             \u001b[0mruntime\u001b[0m \u001b[1;33m=\u001b[0m \u001b[0mself\u001b[0m\u001b[1;33m.\u001b[0m\u001b[0m_run_wrapper\u001b[0m\u001b[1;33m(\u001b[0m\u001b[0mruntime\u001b[0m\u001b[1;33m)\u001b[0m\u001b[1;33m\u001b[0m\u001b[0m\n\u001b[0m\u001b[0;32m   1034\u001b[0m             \u001b[0moutputs\u001b[0m \u001b[1;33m=\u001b[0m \u001b[0mself\u001b[0m\u001b[1;33m.\u001b[0m\u001b[0maggregate_outputs\u001b[0m\u001b[1;33m(\u001b[0m\u001b[0mruntime\u001b[0m\u001b[1;33m)\u001b[0m\u001b[1;33m\u001b[0m\u001b[0m\n\u001b[0;32m   1035\u001b[0m             \u001b[0mruntime\u001b[0m\u001b[1;33m.\u001b[0m\u001b[0mendTime\u001b[0m \u001b[1;33m=\u001b[0m \u001b[0mdt\u001b[0m\u001b[1;33m.\u001b[0m\u001b[0misoformat\u001b[0m\u001b[1;33m(\u001b[0m\u001b[0mdt\u001b[0m\u001b[1;33m.\u001b[0m\u001b[0mutcnow\u001b[0m\u001b[1;33m(\u001b[0m\u001b[1;33m)\u001b[0m\u001b[1;33m)\u001b[0m\u001b[1;33m\u001b[0m\u001b[0m\n",
      "\u001b[1;32m/home/brain/anaconda/lib/python2.7/site-packages/nipype/interfaces/base.pyc\u001b[0m in \u001b[0;36m_run_wrapper\u001b[1;34m(self, runtime)\u001b[0m\n\u001b[0;32m   1455\u001b[0m \u001b[1;33m\u001b[0m\u001b[0m\n\u001b[0;32m   1456\u001b[0m     \u001b[1;32mdef\u001b[0m \u001b[0m_run_wrapper\u001b[0m\u001b[1;33m(\u001b[0m\u001b[0mself\u001b[0m\u001b[1;33m,\u001b[0m \u001b[0mruntime\u001b[0m\u001b[1;33m)\u001b[0m\u001b[1;33m:\u001b[0m\u001b[1;33m\u001b[0m\u001b[0m\n\u001b[1;32m-> 1457\u001b[1;33m         \u001b[0mruntime\u001b[0m \u001b[1;33m=\u001b[0m \u001b[0mself\u001b[0m\u001b[1;33m.\u001b[0m\u001b[0m_run_interface\u001b[0m\u001b[1;33m(\u001b[0m\u001b[0mruntime\u001b[0m\u001b[1;33m)\u001b[0m\u001b[1;33m\u001b[0m\u001b[0m\n\u001b[0m\u001b[0;32m   1458\u001b[0m         \u001b[1;32mreturn\u001b[0m \u001b[0mruntime\u001b[0m\u001b[1;33m\u001b[0m\u001b[0m\n\u001b[0;32m   1459\u001b[0m \u001b[1;33m\u001b[0m\u001b[0m\n",
      "\u001b[1;32m/home/brain/anaconda/lib/python2.7/site-packages/nipype/interfaces/base.pyc\u001b[0m in \u001b[0;36m_run_interface\u001b[1;34m(self, runtime, correct_return_codes)\u001b[0m\n\u001b[0;32m   1489\u001b[0m         \u001b[1;32mif\u001b[0m \u001b[0mruntime\u001b[0m\u001b[1;33m.\u001b[0m\u001b[0mreturncode\u001b[0m \u001b[1;32mis\u001b[0m \u001b[0mNone\u001b[0m \u001b[1;32mor\u001b[0m\u001b[0;31m \u001b[0m\u001b[0;31m\\\u001b[0m\u001b[1;33m\u001b[0m\u001b[0m\n\u001b[0;32m   1490\u001b[0m                         \u001b[0mruntime\u001b[0m\u001b[1;33m.\u001b[0m\u001b[0mreturncode\u001b[0m \u001b[1;32mnot\u001b[0m \u001b[1;32min\u001b[0m \u001b[0mcorrect_return_codes\u001b[0m\u001b[1;33m:\u001b[0m\u001b[1;33m\u001b[0m\u001b[0m\n\u001b[1;32m-> 1491\u001b[1;33m             \u001b[0mself\u001b[0m\u001b[1;33m.\u001b[0m\u001b[0mraise_exception\u001b[0m\u001b[1;33m(\u001b[0m\u001b[0mruntime\u001b[0m\u001b[1;33m)\u001b[0m\u001b[1;33m\u001b[0m\u001b[0m\n\u001b[0m\u001b[0;32m   1492\u001b[0m \u001b[1;33m\u001b[0m\u001b[0m\n\u001b[0;32m   1493\u001b[0m         \u001b[1;32mreturn\u001b[0m \u001b[0mruntime\u001b[0m\u001b[1;33m\u001b[0m\u001b[0m\n",
      "\u001b[1;32m/home/brain/anaconda/lib/python2.7/site-packages/nipype/interfaces/base.pyc\u001b[0m in \u001b[0;36mraise_exception\u001b[1;34m(self, runtime)\u001b[0m\n\u001b[0;32m   1413\u001b[0m         \u001b[0mmessage\u001b[0m \u001b[1;33m+=\u001b[0m \u001b[1;34m\"Standard error:\\n\"\u001b[0m \u001b[1;33m+\u001b[0m \u001b[0mruntime\u001b[0m\u001b[1;33m.\u001b[0m\u001b[0mstderr\u001b[0m \u001b[1;33m+\u001b[0m \u001b[1;34m\"\\n\"\u001b[0m\u001b[1;33m\u001b[0m\u001b[0m\n\u001b[0;32m   1414\u001b[0m         \u001b[0mmessage\u001b[0m \u001b[1;33m+=\u001b[0m \u001b[1;34m\"Return code: \"\u001b[0m \u001b[1;33m+\u001b[0m \u001b[0mstr\u001b[0m\u001b[1;33m(\u001b[0m\u001b[0mruntime\u001b[0m\u001b[1;33m.\u001b[0m\u001b[0mreturncode\u001b[0m\u001b[1;33m)\u001b[0m\u001b[1;33m\u001b[0m\u001b[0m\n\u001b[1;32m-> 1415\u001b[1;33m         \u001b[1;32mraise\u001b[0m \u001b[0mRuntimeError\u001b[0m\u001b[1;33m(\u001b[0m\u001b[0mmessage\u001b[0m\u001b[1;33m)\u001b[0m\u001b[1;33m\u001b[0m\u001b[0m\n\u001b[0m\u001b[0;32m   1416\u001b[0m \u001b[1;33m\u001b[0m\u001b[0m\n\u001b[0;32m   1417\u001b[0m     \u001b[1;33m@\u001b[0m\u001b[0mclassmethod\u001b[0m\u001b[1;33m\u001b[0m\u001b[0m\n",
      "\u001b[1;31mRuntimeError\u001b[0m: Command:\n3dDeconvolve -x1D_stop -input 'pb01.ST015.r01.scale+tlrc.HEAD pb01.ST015.r02.scale+tlrc.HEAD pb01.ST015.r03.scale+tlrc.HEAD pb01.ST015.r04.scale+tlrc.HEAD' -polort 5 -num_stimts 2 -stim_times 1 ts_CONGRUENT.txt 'BLOCK(0.72,1)' -stim_label 1 congruent -stim_times 2 ts_INCONGRUENT.txt 'BLOCK(0.72,1)' -stim_label 2 incongruent -GOFORIT 10 -x1D X\nStandard output:\n\nStandard error:\n++ No '-bucket' option given ==> using '-bucket Decon'\n++ 3dDeconvolve: AFNI version=AFNI_2011_12_21_1014 (Dec 27 2014) [64-bit]\n++ Authored by: B. Douglas Ward, et al.\n++ Auto-catenated input datasets treated as multiple imaging runs\n++ Auto-catenated datasets start at:  0 952 1884 2816\nKilled\nReturn code: 137\nInterface CCPDeconvolve failed to run. "
     ]
    }
   ],
   "source": [
    "glm.run()"
   ]
  },
  {
   "cell_type": "code",
   "execution_count": 13,
   "metadata": {
    "collapsed": false
   },
   "outputs": [
    {
     "data": {
      "text/plain": [
       "['afni_data.tar.gz',\n",
       " 'anat+tlrc.BRIK',\n",
       " 'anat+tlrc.HEAD',\n",
       " 'LWMC_CONGRUENT.txt',\n",
       " 'LWMC_INCONGRUENT.txt',\n",
       " 'LWMC_PC50_C.txt',\n",
       " 'LWMC_PC50_I.txt',\n",
       " 'LWMI_CONGRUENT.txt',\n",
       " 'LWMI_INCONGRUENT.txt',\n",
       " 'LWMI_PC50_C.txt',\n",
       " 'LWMI_PC50_I.txt',\n",
       " 'Movement_Regressors_ALL.txt',\n",
       " 'pb01.ST015.r01.scale+tlrc.BRIK',\n",
       " 'pb01.ST015.r01.scale+tlrc.HEAD',\n",
       " 'pb01.ST015.r02.scale+tlrc.BRIK',\n",
       " 'pb01.ST015.r02.scale+tlrc.HEAD',\n",
       " 'pb01.ST015.r03.scale+tlrc.BRIK',\n",
       " 'pb01.ST015.r03.scale+tlrc.HEAD',\n",
       " 'pb01.ST015.r04.scale+tlrc.BRIK',\n",
       " 'pb01.ST015.r04.scale+tlrc.HEAD',\n",
       " 'ts_CONGRUENT.txt',\n",
       " 'ts_INCONGRUENT.txt',\n",
       " 'ts_PC50_C.txt',\n",
       " 'ts_PC50_I.txt']"
      ]
     },
     "execution_count": 13,
     "metadata": {},
     "output_type": "execute_result"
    }
   ],
   "source": [
    "os.listdir('.')"
   ]
  },
  {
   "cell_type": "code",
   "execution_count": 13,
   "metadata": {
    "collapsed": false
   },
   "outputs": [
    {
     "data": {
      "text/plain": [
       "{'out_file': '/home/brain/nipype/ccp/DATA/sub001/X',\n",
       " 'results_dir': <undefined>}"
      ]
     },
     "execution_count": 13,
     "metadata": {},
     "output_type": "execute_result"
    }
   ],
   "source": [
    "glm._list_outputs()"
   ]
  },
  {
   "cell_type": "code",
   "execution_count": 14,
   "metadata": {
    "collapsed": false
   },
   "outputs": [
    {
     "name": "stdout",
     "output_type": "stream",
     "text": [
      "Wraps command **3dinfo**\n",
      "\n",
      "\n",
      "Inputs::\n",
      "\n",
      "\t[Mandatory]\n",
      "\tin_file: (an existing file name)\n",
      "\t\tInput file to 3dInfo.\n",
      "\t\tflag: -nv %s, position: 1\n",
      "\n",
      "\t[Optional]\n",
      "\targs: (a string)\n",
      "\t\tAdditional parameters to the command\n",
      "\t\tflag: %s\n",
      "\tenviron: (a dictionary with keys which are a value of type 'str' and\n",
      "\t\t with values which are a value of type 'str', nipype default value:\n",
      "\t\t {})\n",
      "\t\tEnvironment variables\n",
      "\tignore_exception: (a boolean, nipype default value: False)\n",
      "\t\tPrint an error message instead of throwing an exception in case the\n",
      "\t\tinterface fails to run\n",
      "\tout_file: (a string)\n",
      "\t\tOutput file name.\n",
      "\tterminal_output: ('stream' or 'allatonce' or 'file' or 'none')\n",
      "\t\tControl terminal output: `stream` - displays to terminal immediately\n",
      "\t\t(default), `allatonce` - waits till command is finished to display\n",
      "\t\toutput, `file` - writes output to file, `none` - output is ignored\n",
      "\n",
      "Outputs::\n",
      "\n",
      "\tout_file: (a string)\n",
      "\ttr_value: (a string)\n",
      "\n"
     ]
    }
   ],
   "source": [
    "# NiiInfo interface\n",
    "nvols = NiiInfo(in_file='run001_afni+orig.BRIK')\n",
    "nvols.help()"
   ]
  },
  {
   "cell_type": "code",
   "execution_count": 15,
   "metadata": {
    "collapsed": false
   },
   "outputs": [
    {
     "name": "stderr",
     "output_type": "stream",
     "text": [
      "INFO:interface:stdout 2016-01-27T14:23:43.168011:146\n"
     ]
    },
    {
     "data": {
      "text/plain": [
       "'146'"
      ]
     },
     "execution_count": 15,
     "metadata": {},
     "output_type": "execute_result"
    }
   ],
   "source": [
    "nvols.run().outputs"
   ]
  },
  {
   "cell_type": "code",
   "execution_count": 16,
   "metadata": {
    "collapsed": false
   },
   "outputs": [
    {
     "name": "stdout",
     "output_type": "stream",
     "text": [
      "Wraps command **1d_tool.py**\n",
      "\n",
      "\n",
      "Inputs::\n",
      "\n",
      "\t[Mandatory]\n",
      "\tin_file: (an existing file name)\n",
      "\t\tMovement Regressor Files (concat all runs).\n",
      "\t\tflag: -infile %s\n",
      "\tout_file: (a string)\n",
      "\t\tName for output file.\n",
      "\t\tflag: -write %s\n",
      "\ttr_counts: (a list of items which are an integer (int or long))\n",
      "\t\tList of volumes per run.\n",
      "\t\tflag: -set_run_lenghts %s\n",
      "\n",
      "\t[Optional]\n",
      "\targs: (a string)\n",
      "\t\tAdditional parameters to the command\n",
      "\t\tflag: %s\n",
      "\tcollapse_cols: ('min' or 'max' or 'minabs' or 'maxabs' or\n",
      "\t\t 'euclidean_norm' or 'weighted_norm')\n",
      "\t\tNorm applied to collapsing of columns.\n",
      "\tenviron: (a dictionary with keys which are a value of type 'str' and\n",
      "\t\t with values which are a value of type 'str', nipype default value:\n",
      "\t\t {})\n",
      "\t\tEnvironment variables\n",
      "\tignore_exception: (a boolean, nipype default value: False)\n",
      "\t\tPrint an error message instead of throwing an exception in case the\n",
      "\t\tinterface fails to run\n",
      "\toutputtype: ('NIFTI_GZ' or 'AFNI' or 'NIFTI')\n",
      "\t\tAFNI output filetype\n",
      "\tterminal_output: ('stream' or 'allatonce' or 'file' or 'none')\n",
      "\t\tControl terminal output: `stream` - displays to terminal immediately\n",
      "\t\t(default), `allatonce` - waits till command is finished to display\n",
      "\t\toutput, `file` - writes output to file, `none` - output is ignored\n",
      "\n",
      "Outputs::\n",
      "\n",
      "\toutput_file: (a file name)\n",
      "\t\tOutput file generated by 1d_tool.py\n",
      "\n"
     ]
    }
   ],
   "source": [
    "# 1d_tool.py wrap\n",
    "oned = OneDTool()\n",
    "oned.help()"
   ]
  },
  {
   "cell_type": "code",
   "execution_count": null,
   "metadata": {
    "collapsed": true
   },
   "outputs": [],
   "source": [
    "os.chdir(wd)\n",
    "wd"
   ]
  },
  {
   "cell_type": "code",
   "execution_count": null,
   "metadata": {
    "collapsed": true
   },
   "outputs": [],
   "source": [
    "# STROOP"
   ]
  },
  {
   "cell_type": "code",
   "execution_count": null,
   "metadata": {
    "collapsed": false
   },
   "outputs": [],
   "source": [
    "datadir = '/home/brain/host/devdir/nipype/DATA'\n",
    "os.chdir(datadir)\n",
    "os.listdir('.')"
   ]
  },
  {
   "cell_type": "code",
   "execution_count": null,
   "metadata": {
    "collapsed": false
   },
   "outputs": [],
   "source": [
    "glm2 = CCPDeconvolve()\n",
    "glm2.inputs.in_file = [ 'pb01.ST015.r01.scale+tlrc.HEAD' , 'pb01.ST015.r02.scale+tlrc.HEAD', 'pb01.ST015.r03.scale+tlrc.HEAD', 'pb01.ST015.r04.scale+tlrc.HEAD']\n",
    "glm2.inputs.polort = 5\n",
    "glm2.inputs.out_file = 'X'\n",
    "glm2.inputs.xmat_only = True\n",
    "glm2.inputs.args = '-GOFORIT 10'\n",
    "glm2.inputs.output_prefix = 'stats'\n",
    "glm2.inputs.num_stimts = 2\n",
    "glm2.inputs.stimulus = True\n",
    "glm2.inputs.stim_times=['ts_CONGRUENT.txt', 'ts_INCONGRUENT.txt']\n",
    "glm2.inputs.stim_labels=['congruent', 'incongruent']\n",
    "glm2.inputs.glm_contrasts = ['congruent -incongruent', 'incongruent -congruent', '0.5*congruent +0.5*incongruent']\n",
    "glm2.inputs.glm_labels = ['diff_pos', 'diff_neg', 'mean']\n",
    "glm2.inputs.glms = True\n",
    "glm2.inputs.model = 'BLOCK(1,1)'\n",
    "glm2.inputs.motion_regs = 'Movement_Regressors_ALL.txt'\n",
    "glm2.inputs"
   ]
  },
  {
   "cell_type": "code",
   "execution_count": null,
   "metadata": {
    "collapsed": false
   },
   "outputs": [],
   "source": [
    "glm2.cmdline"
   ]
  },
  {
   "cell_type": "code",
   "execution_count": null,
   "metadata": {
    "collapsed": false
   },
   "outputs": [],
   "source": [
    "# glm2.run()"
   ]
  },
  {
   "cell_type": "code",
   "execution_count": null,
   "metadata": {
    "collapsed": true
   },
   "outputs": [],
   "source": [
    "# os.listdir('.')"
   ]
  },
  {
   "cell_type": "code",
   "execution_count": 17,
   "metadata": {
    "collapsed": false
   },
   "outputs": [
    {
     "data": {
      "text/plain": [
       "'/home/brain/nipype/ccp/myafni'"
      ]
     },
     "execution_count": 17,
     "metadata": {},
     "output_type": "execute_result"
    }
   ],
   "source": [
    "os.chdir(wd)\n",
    "wd"
   ]
  },
  {
   "cell_type": "code",
   "execution_count": null,
   "metadata": {
    "collapsed": true
   },
   "outputs": [],
   "source": []
  }
 ],
 "metadata": {
  "kernelspec": {
   "display_name": "Python 2",
   "language": "python",
   "name": "python2"
  },
  "language_info": {
   "codemirror_mode": {
    "name": "ipython",
    "version": 2
   },
   "file_extension": ".py",
   "mimetype": "text/x-python",
   "name": "python",
   "nbconvert_exporter": "python",
   "pygments_lexer": "ipython2",
   "version": "2.7.10"
  }
 },
 "nbformat": 4,
 "nbformat_minor": 0
}
