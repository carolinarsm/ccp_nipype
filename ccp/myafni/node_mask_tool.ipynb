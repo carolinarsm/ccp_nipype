{
 "cells": [
  {
   "cell_type": "code",
   "execution_count": 1,
   "metadata": {
    "collapsed": false
   },
   "outputs": [
    {
     "name": "stdout",
     "output_type": "stream",
     "text": [
      "/home/brain/nipype/ccp/DATA\n",
      "['mask_001+orig.HEAD', 'run002+orig.BRIK', 'run002+orig.HEAD', 'run001+orig.BRIK', 'sub003', 'automask', 'sub001', 'run001+orig.HEAD', 'mask_002+orig.BRIK', 'my_workflow', 'mask_002+orig.HEAD', 'mask_001+orig.BRIK']\n"
     ]
    }
   ],
   "source": [
    "import os\n",
    "from nipype.interfaces import afni as afni\n",
    "import nipype.pipeline.engine as pe \n",
    "import nipype.interfaces.io as nio\n",
    "import nipype.interfaces.utility as util\n",
    "\n",
    "import warnings\n",
    "import re\n",
    "import sys\n",
    "from nipype.interfaces.afni.base import AFNICommand, AFNICommandInputSpec\n",
    "from nipype.interfaces.base import CommandLineInputSpec, CommandLine, TraitedSpec, traits, File, InputMultiPath, \\\n",
    "    isdefined\n",
    "\n",
    "\n",
    "from nipype.interfaces.afni.ccpafni import CCPMaskTool\n",
    "#from interfaces import CCPMaskTool\n",
    "data_dir = os.path.abspath('../DATA')\n",
    "print data_dir\n",
    "print os.listdir(data_dir)"
   ]
  },
  {
   "cell_type": "code",
   "execution_count": 2,
   "metadata": {
    "collapsed": true
   },
   "outputs": [],
   "source": [
    "# NODE"
   ]
  },
  {
   "cell_type": "code",
   "execution_count": 3,
   "metadata": {
    "collapsed": false
   },
   "outputs": [],
   "source": [
    "union = pe.Node(interface=CCPMaskTool(), \n",
    "                name=\"union\")"
   ]
  },
  {
   "cell_type": "code",
   "execution_count": 4,
   "metadata": {
    "collapsed": false
   },
   "outputs": [],
   "source": [
    "#union.help()\n",
    "import glob"
   ]
  },
  {
   "cell_type": "code",
   "execution_count": 15,
   "metadata": {
    "collapsed": false
   },
   "outputs": [],
   "source": [
    "union.base_dir = data_dir\n",
    "union.inputs.out_file = 'union'\n",
    "#union.inputs.in_file = [os.path.abspath('../DATA/sub001/run001.nii.gz')]\n",
    "#union.inputs.in_file = [os.path.abspath('../DATA/mask_001+orig.HEAD'), \n",
    "#                        os.path.abspath('../DATA/mask_001+orig.BRIK')]\n",
    "union.inputs.in_file = glob.glob(os.path.abspath('../DATA/mask*'))\n",
    "union.inputs.args = \"-union\""
   ]
  },
  {
   "cell_type": "code",
   "execution_count": 16,
   "metadata": {
    "collapsed": false
   },
   "outputs": [
    {
     "data": {
      "text/plain": [
       "\n",
       "args = -union\n",
       "environ = {}\n",
       "ignore_exception = False\n",
       "in_file = ['/home/brain/nipype/ccp/DATA/mask_001+orig.HEAD', '/home/brain/nipype/ccp/DATA/mask_002+orig.BRIK', '/home/brain/nipype/ccp/DATA/mask_002+orig.HEAD', '/home/brain/nipype/ccp/DATA/mask_001+orig.BRIK']\n",
       "out_file = union\n",
       "outputtype = NIFTI_GZ\n",
       "terminal_output = stream"
      ]
     },
     "execution_count": 16,
     "metadata": {},
     "output_type": "execute_result"
    }
   ],
   "source": [
    "union.inputs.outputtype = 'NIFTI_GZ'\n",
    "union.inputs"
   ]
  },
  {
   "cell_type": "code",
   "execution_count": 17,
   "metadata": {
    "collapsed": false
   },
   "outputs": [
    {
     "data": {
      "text/plain": [
       "'3dmask_tool -inputs /home/brain/nipype/ccp/DATA/mask_001+orig.HEAD /home/brain/nipype/ccp/DATA/mask_002+orig.BRIK /home/brain/nipype/ccp/DATA/mask_002+orig.HEAD /home/brain/nipype/ccp/DATA/mask_001+orig.BRIK -union -prefix union'"
      ]
     },
     "execution_count": 17,
     "metadata": {},
     "output_type": "execute_result"
    }
   ],
   "source": [
    "union.interface.cmdline"
   ]
  },
  {
   "cell_type": "code",
   "execution_count": 18,
   "metadata": {
    "collapsed": false
   },
   "outputs": [
    {
     "name": "stderr",
     "output_type": "stream",
     "text": [
      "INFO:workflow:Executing node union in dir: /home/brain/nipype/ccp/DATA/union\n",
      "INFO:workflow:Running: 3dmask_tool -inputs /home/brain/nipype/ccp/DATA/union/mask_001+orig.HEAD /home/brain/nipype/ccp/DATA/union/mask_002+orig.BRIK /home/brain/nipype/ccp/DATA/union/mask_002+orig_c0000.HEAD /home/brain/nipype/ccp/DATA/union/mask_001+orig.BRIK -union -prefix union\n",
      "INFO:interface:stderr 2016-02-09T15:23:24.589310:++ processing 4 input datasets...\n",
      "INFO:interface:stderr 2016-02-09T15:23:24.597357:++ padding all datasets by 0 (for dilations)\n",
      "INFO:interface:stderr 2016-02-09T15:23:24.649609:++ frac 0 over 4 volumes gives min count 0\n",
      "INFO:interface:stderr 2016-02-09T15:23:24.657757:++ voxel limits: 0 clipped, 44463 survived, 119377 were zero\n",
      "INFO:interface:stderr 2016-02-09T15:23:24.659154:++ writing result union...\n",
      "INFO:interface:stderr 2016-02-09T15:23:24.661502:++ Output dataset ./union+orig.BRIK\n"
     ]
    },
    {
     "data": {
      "text/plain": [
       "<nipype.interfaces.base.InterfaceResult at 0x7efe5d2f42d0>"
      ]
     },
     "execution_count": 18,
     "metadata": {},
     "output_type": "execute_result"
    }
   ],
   "source": [
    "union.run()"
   ]
  },
  {
   "cell_type": "code",
   "execution_count": 9,
   "metadata": {
    "collapsed": false
   },
   "outputs": [
    {
     "data": {
      "text/plain": [
       "'/home/brain/nipype/ccp/DATA/union'"
      ]
     },
     "execution_count": 9,
     "metadata": {},
     "output_type": "execute_result"
    }
   ],
   "source": [
    "union.output_dir()"
   ]
  },
  {
   "cell_type": "code",
   "execution_count": 10,
   "metadata": {
    "collapsed": false
   },
   "outputs": [
    {
     "data": {
      "text/plain": [
       "\n",
       "out_file = <undefined>"
      ]
     },
     "execution_count": 10,
     "metadata": {},
     "output_type": "execute_result"
    }
   ],
   "source": [
    "union.outputs"
   ]
  },
  {
   "cell_type": "code",
   "execution_count": null,
   "metadata": {
    "collapsed": true
   },
   "outputs": [],
   "source": [
    "# INTERFACE"
   ]
  },
  {
   "cell_type": "code",
   "execution_count": 2,
   "metadata": {
    "collapsed": false
   },
   "outputs": [
    {
     "data": {
      "text/plain": [
       "\n",
       "args = <undefined>\n",
       "environ = {}\n",
       "ignore_exception = False\n",
       "in_file = <undefined>\n",
       "out_file = <undefined>\n",
       "outputtype = AFNI\n",
       "terminal_output = stream"
      ]
     },
     "execution_count": 2,
     "metadata": {},
     "output_type": "execute_result"
    }
   ],
   "source": [
    "a = CCPMaskTool()\n",
    "a.inputs"
   ]
  },
  {
   "cell_type": "code",
   "execution_count": 3,
   "metadata": {
    "collapsed": false
   },
   "outputs": [],
   "source": [
    "a.inputs.args = '-union'\n",
    "a.inputs.in_file = [os.path.abspath('../DATA/mask_001+orig.HEAD'),\n",
    "                   os.path.abspath('../DATA/mask_002+orig.HEAD')]\n",
    "a.inputs.outputtype = 'AFNI'\n",
    "a.inputs.out_file = 'union'\n"
   ]
  },
  {
   "cell_type": "code",
   "execution_count": 4,
   "metadata": {
    "collapsed": false
   },
   "outputs": [
    {
     "name": "stderr",
     "output_type": "stream",
     "text": [
      "INFO:interface:stderr 2016-02-09T14:55:38.283656:++ processing 2 input datasets...\n",
      "INFO:interface:stderr 2016-02-09T14:55:38.294057:++ padding all datasets by 0 (for dilations)\n",
      "INFO:interface:stderr 2016-02-09T14:55:38.348631:++ frac 0 over 2 volumes gives min count 0\n",
      "INFO:interface:stderr 2016-02-09T14:55:38.350791:++ voxel limits: 0 clipped, 44463 survived, 119377 were zero\n",
      "INFO:interface:stderr 2016-02-09T14:55:38.352640:++ writing result union...\n",
      "INFO:interface:stderr 2016-02-09T14:55:38.358327:++ Output dataset ./union+orig.BRIK\n"
     ]
    }
   ],
   "source": [
    "res = a.run().outputs"
   ]
  },
  {
   "cell_type": "code",
   "execution_count": 5,
   "metadata": {
    "collapsed": false
   },
   "outputs": [
    {
     "data": {
      "text/plain": [
       "'/home/brain/nipype/ccp/myafni/union+orig.BRIK'"
      ]
     },
     "execution_count": 5,
     "metadata": {},
     "output_type": "execute_result"
    }
   ],
   "source": [
    "res.out_file\n",
    "# works fine"
   ]
  }
 ],
 "metadata": {
  "kernelspec": {
   "display_name": "Python 2",
   "language": "python",
   "name": "python2"
  },
  "language_info": {
   "codemirror_mode": {
    "name": "ipython",
    "version": 2
   },
   "file_extension": ".py",
   "mimetype": "text/x-python",
   "name": "python",
   "nbconvert_exporter": "python",
   "pygments_lexer": "ipython2",
   "version": "2.7.10"
  }
 },
 "nbformat": 4,
 "nbformat_minor": 0
}
