{
 "cells": [
  {
   "cell_type": "code",
   "execution_count": 1,
   "metadata": {
    "collapsed": false
   },
   "outputs": [
    {
     "name": "stdout",
     "output_type": "stream",
     "text": [
      "/home/brain/nipype/ccp/DATA\n",
      "['wf1', 'sub003', 'sub001', 'union', 'mean', 'tcat', 'movdemean', 'scale']\n"
     ]
    }
   ],
   "source": [
    "import os\n",
    "from nipype.interfaces import afni as afni\n",
    "import nipype.pipeline.engine as pe \n",
    "import nipype.interfaces.io as nio\n",
    "import nipype.interfaces.utility as util\n",
    "\n",
    "import warnings\n",
    "import re\n",
    "import sys\n",
    "from nipype.interfaces.afni.base import AFNICommand, AFNICommandInputSpec\n",
    "from nipype.interfaces.base import CommandLineInputSpec, CommandLine, TraitedSpec, traits, File, InputMultiPath, \\\n",
    "    isdefined\n",
    "import glob\n",
    "\n",
    "#from nipype.interfaces.afni.ccpafni import CCPDeconvolve\n",
    "from interfaces import CCPDeconvolve\n",
    "data_dir = os.path.abspath('../DATA')\n",
    "print data_dir\n",
    "print os.listdir(data_dir)"
   ]
  },
  {
   "cell_type": "code",
   "execution_count": 2,
   "metadata": {
    "collapsed": true
   },
   "outputs": [],
   "source": [
    "# NODE"
   ]
  },
  {
   "cell_type": "code",
   "execution_count": 3,
   "metadata": {
    "collapsed": false
   },
   "outputs": [
    {
     "data": {
      "text/plain": [
       "\n",
       "args = <undefined>\n",
       "censor_list = <undefined>\n",
       "environ = {}\n",
       "glm_contrasts = <undefined>\n",
       "glm_labels = <undefined>\n",
       "glms = <undefined>\n",
       "ignore_exception = False\n",
       "img_file = <undefined>\n",
       "in_file = <undefined>\n",
       "mask = <undefined>\n",
       "model = <undefined>\n",
       "motion_regs = <undefined>\n",
       "num_stimts = <undefined>\n",
       "options = <undefined>\n",
       "out_file = <undefined>\n",
       "output_prefix = <undefined>\n",
       "outputtype = AFNI\n",
       "polort = <undefined>\n",
       "stim_labels = <undefined>\n",
       "stim_times = <undefined>\n",
       "stimulus = <undefined>\n",
       "terminal_output = stream\n",
       "xmat_only = <undefined>"
      ]
     },
     "execution_count": 3,
     "metadata": {},
     "output_type": "execute_result"
    }
   ],
   "source": [
    "glm = pe.Node(interface=CCPDeconvolve(),\n",
    "                    name=\"ccpdeconvolve\")\n",
    "glm.inputs"
   ]
  },
  {
   "cell_type": "code",
   "execution_count": 4,
   "metadata": {
    "collapsed": false
   },
   "outputs": [],
   "source": [
    "glm.base_dir = data_dir\n",
    "glm.inputs.in_file = glob.glob(os.path.abspath('../DATA/sub001/run*'))\n",
    "glm.inputs.polort = 5\n",
    "glm.inputs.out_file = 'X.xmat.1D'\n",
    "glm.inputs.img_file = 'X.png'\n",
    "glm.inputs.xmat_only = True\n",
    "glm.inputs.args = '-GOFORIT 10'\n",
    "#glm.inputs.output_prefix = 'stats'\n",
    "glm.inputs.num_stimts = 2\n",
    "glm.inputs.stimulus = True\n",
    "glm.inputs.stim_times=glob.glob(os.path.abspath('../DATA/sub001/onsets_*_ALL.txt'))\n",
    "glm.inputs.stim_labels=['C1', 'C3']\n",
    "#glm.inputs.glm_contrasts = ['C1 -C3', 'C3 -C1', '0.5*C1 +0.5*C3']\n",
    "#glm.inputs.glm_labels = ['diff_pos', 'diff_neg', 'mean']\n",
    "#glm.inputs.glms = True\n",
    "glm.inputs.options = '-x1D_stop -local_times'\n",
    "#glm.inputs.args = '-xjpeg X.png'\n",
    "glm.inputs.model = 'CSPLIN(0,4000,4)'"
   ]
  },
  {
   "cell_type": "code",
   "execution_count": 5,
   "metadata": {
    "collapsed": false
   },
   "outputs": [
    {
     "data": {
      "text/plain": [
       "\n",
       "args = -GOFORIT 10\n",
       "censor_list = <undefined>\n",
       "environ = {}\n",
       "glm_contrasts = <undefined>\n",
       "glm_labels = <undefined>\n",
       "glms = <undefined>\n",
       "ignore_exception = False\n",
       "img_file = X.png\n",
       "in_file = ['/home/brain/nipype/ccp/DATA/sub001/run002.nii.gz', '/home/brain/nipype/ccp/DATA/sub001/run001.nii.gz']\n",
       "mask = <undefined>\n",
       "model = CSPLIN(0,4000,4)\n",
       "motion_regs = <undefined>\n",
       "num_stimts = 2\n",
       "options = -x1D_stop -local_times\n",
       "out_file = X.xmat.1D\n",
       "output_prefix = <undefined>\n",
       "outputtype = AFNI\n",
       "polort = 5\n",
       "stim_labels = ['C1', 'C3']\n",
       "stim_times = ['/home/brain/nipype/ccp/DATA/sub001/onsets_COND001_ALL.txt', '/home/brain/nipype/ccp/DATA/sub001/onsets_COND003_ALL.txt']\n",
       "stimulus = True\n",
       "terminal_output = stream\n",
       "xmat_only = True"
      ]
     },
     "execution_count": 5,
     "metadata": {},
     "output_type": "execute_result"
    }
   ],
   "source": [
    "glm.inputs"
   ]
  },
  {
   "cell_type": "code",
   "execution_count": 6,
   "metadata": {
    "collapsed": false
   },
   "outputs": [
    {
     "data": {
      "text/plain": [
       "\"3dDeconvolve -x1D_stop -local_times -input '/home/brain/nipype/ccp/DATA/sub001/run002.nii.gz /home/brain/nipype/ccp/DATA/sub001/run001.nii.gz' -polort 5 -num_stimts 2 -stim_times 1 /home/brain/nipype/ccp/DATA/sub001/onsets_COND001_ALL.txt 'CSPLIN(0,4000,4)' -stim_label 1 C1 -stim_times 2 /home/brain/nipype/ccp/DATA/sub001/onsets_COND003_ALL.txt 'CSPLIN(0,4000,4)' -stim_label 2 C3 -GOFORIT 10 -xjpeg X.png -x1D X.xmat.1D -x1D_stop\""
      ]
     },
     "execution_count": 6,
     "metadata": {},
     "output_type": "execute_result"
    }
   ],
   "source": [
    "glm.interface.cmdline"
   ]
  },
  {
   "cell_type": "code",
   "execution_count": 7,
   "metadata": {
    "collapsed": false
   },
   "outputs": [
    {
     "name": "stderr",
     "output_type": "stream",
     "text": [
      "INFO:workflow:Executing node ccpdeconvolve in dir: /home/brain/nipype/ccp/DATA/ccpdeconvolve\n",
      "INFO:workflow:Running: 3dDeconvolve -x1D_stop -local_times -input '/home/brain/nipype/ccp/DATA/ccpdeconvolve/run002.nii.gz /home/brain/nipype/ccp/DATA/ccpdeconvolve/run001.nii.gz' -polort 5 -num_stimts 2 -stim_times 1 /home/brain/nipype/ccp/DATA/ccpdeconvolve/onsets_COND001_ALL.txt 'CSPLIN(0,4000,4)' -stim_label 1 C1 -stim_times 2 /home/brain/nipype/ccp/DATA/ccpdeconvolve/onsets_COND003_ALL.txt 'CSPLIN(0,4000,4)' -stim_label 2 C3 -GOFORIT 10 -xjpeg X.png -x1D X.xmat.1D -x1D_stop\n",
      "INFO:interface:stderr 2016-02-12T13:12:59.439627:++ No '-bucket' option given ==> using '-bucket Decon'\n",
      "INFO:interface:stderr 2016-02-12T13:12:59.447457:++ 3dDeconvolve: AFNI version=AFNI_2011_12_21_1014 (Dec 27 2014) [64-bit]\n",
      "INFO:interface:stderr 2016-02-12T13:12:59.447457:++ Authored by: B. Douglas Ward, et al.\n",
      "INFO:interface:stderr 2016-02-12T13:12:59.462994:++ Auto-catenated input datasets treated as multiple imaging runs\n",
      "INFO:interface:stderr 2016-02-12T13:12:59.462994:++ Auto-catenated datasets start at:  0 146\n",
      "INFO:interface:stderr 2016-02-12T13:13:01.619380:++ STAT automask has 37685 voxels (out of 163840 = 23.0%)\n",
      "INFO:interface:stderr 2016-02-12T13:13:01.626243:++ Skipping check for initial transients\n",
      "INFO:interface:stderr 2016-02-12T13:13:01.627745:*+ WARNING: Input polort=5; Longest run=292000.0 s; Recommended minimum polort=1947\n",
      "INFO:interface:stderr 2016-02-12T13:13:01.632172:++ -stim_times using TR=2000 s for stimulus timing conversion\n",
      "INFO:interface:stderr 2016-02-12T13:13:01.632172:++ -stim_times using TR=2000 s for any -iresp output datasets\n",
      "INFO:interface:stderr 2016-02-12T13:13:01.632172:++  [you can alter the -iresp TR via the -TR_times option]\n",
      "INFO:interface:stderr 2016-02-12T13:13:01.632172:*+ WARNING: -stim_times 1 .. CSPLIN(0,4000,4) has inter-knot TR=1333.33 but -iresp output TR=2000\n",
      "INFO:interface:stderr 2016-02-12T13:13:01.632172:++ -stim_times 1 using LOCAL times\n",
      "INFO:interface:stderr 2016-02-12T13:13:01.632172:*+ WARNING: -stim_times 2 .. CSPLIN(0,4000,4) has inter-knot TR=1333.33 but -iresp output TR=2000\n",
      "INFO:interface:stderr 2016-02-12T13:13:01.632172:++ -stim_times 2 using LOCAL times\n",
      "INFO:interface:stderr 2016-02-12T13:13:01.632172:++ Number of time points: 292 (no censoring)\n",
      "INFO:interface:stderr 2016-02-12T13:13:01.632172: + Number of parameters:  20 [12 baseline ; 8 signal]\n",
      "INFO:interface:stderr 2016-02-12T13:13:01.653539:++ Memory required for output bricks = 5,898,240 bytes (about 5.9 million [mega])\n",
      "INFO:interface:stderr 2016-02-12T13:13:02.014547:++ Wrote matrix image to file X.png\n",
      "INFO:interface:stderr 2016-02-12T13:13:02.014547:++ Wrote matrix values to file X.xmat.1D\n",
      "INFO:interface:stderr 2016-02-12T13:13:02.014547:++ ========= Things you can do with the matrix file =========\n",
      "INFO:interface:stderr 2016-02-12T13:13:02.014547:++ (a) Linear regression with ARMA(1,1) modeling of serial correlation:\n",
      "INFO:interface:stderr 2016-02-12T13:13:02.014547:\n",
      "INFO:interface:stderr 2016-02-12T13:13:02.014547:3dREMLfit -matrix X.xmat.1D \\\n",
      "INFO:interface:stderr 2016-02-12T13:13:02.014547: -input \"/home/brain/nipype/ccp/DATA/ccpdeconvolve/run002.nii.gz /home/brain/nipype/ccp/DATA/ccpdeconvolve/run001.nii.gz\" \\\n",
      "INFO:interface:stderr 2016-02-12T13:13:02.014547: -Rbuck Decon_REML -Rvar Decon_REMLvar -verb\n",
      "INFO:interface:stderr 2016-02-12T13:13:02.014547: \n",
      "INFO:interface:stderr 2016-02-12T13:13:02.014547:++ N.B.: 3dREMLfit command above written to file Decon.REML_cmd\n",
      "INFO:interface:stderr 2016-02-12T13:13:02.014547:++ (b) Visualization/analysis of the matrix via ExamineXmat.R\n",
      "INFO:interface:stderr 2016-02-12T13:13:02.014547:++ (c) Synthesis of sub-model datasets using 3dSynthesize\n",
      "INFO:interface:stderr 2016-02-12T13:13:02.014547:++ ==========================================================\n",
      "INFO:interface:stderr 2016-02-12T13:13:02.014547:*+ WARNING: -------------------------------------------------\n",
      "INFO:interface:stderr 2016-02-12T13:13:02.014547:*+ WARNING: Problems with the X matrix columns, listed below:\n",
      "INFO:interface:stderr 2016-02-12T13:13:02.014547:*+ WARNING: !! * Columns 13 [C1#1] and 14 [C1#2] are nearly collinear!\n",
      "INFO:interface:stderr 2016-02-12T13:13:02.014547:*+ WARNING: !! * Columns 17 [C3#1] and 18 [C3#2] are nearly collinear!\n",
      "INFO:interface:stderr 2016-02-12T13:13:02.014547:*+ WARNING: -------------------------------------------------\n",
      "INFO:interface:stderr 2016-02-12T13:13:02.014547:++ ----- Signal+Baseline matrix condition [X] (292x20):  1.65002  ++ VERY GOOD ++\n",
      "INFO:interface:stderr 2016-02-12T13:13:02.014547:*+ WARNING: !! in Signal+Baseline matrix:\n",
      "INFO:interface:stderr 2016-02-12T13:13:02.014547: * Largest singular value=1.50906\n",
      "INFO:interface:stderr 2016-02-12T13:13:02.014547: * 2 singular values are less than cutoff=1.50906e-07\n",
      "INFO:interface:stderr 2016-02-12T13:13:02.014547: * Implies strong collinearity in the matrix columns! \n",
      "INFO:interface:stderr 2016-02-12T13:13:02.014547:++ Signal+Baseline matrix singular values:\n",
      "INFO:interface:stderr 2016-02-12T13:13:02.014547:   1.82726e-08   2.19652e-08      0.554277      0.857775      0.968936\n",
      "INFO:interface:stderr 2016-02-12T13:13:02.014547:      0.974128       0.97572      0.982074      0.985864      0.992342\n",
      "INFO:interface:stderr 2016-02-12T13:13:02.014547:       0.99898      0.999874       1.01796        1.0235       1.02925\n",
      "INFO:interface:stderr 2016-02-12T13:13:02.014547:       1.04512       1.10038       1.19257       1.43269       1.50906\n",
      "INFO:interface:stderr 2016-02-12T13:13:02.014547:++ ----- Signal-only matrix condition [X] (292x8):  1.19494  ++ VERY GOOD ++\n",
      "INFO:interface:stderr 2016-02-12T13:13:02.014547:*+ WARNING: !! in Signal-only matrix:\n",
      "INFO:interface:stderr 2016-02-12T13:13:02.014547: * Largest singular value=1.41964\n",
      "INFO:interface:stderr 2016-02-12T13:13:02.014547: * 2 singular values are less than cutoff=1.41964e-07\n",
      "INFO:interface:stderr 2016-02-12T13:13:02.014547: * Implies strong collinearity in the matrix columns! \n",
      "INFO:interface:stderr 2016-02-12T13:13:02.014547:++ Signal-only matrix singular values:\n",
      "INFO:interface:stderr 2016-02-12T13:13:02.014547:             0   1.36688e-08      0.994235      0.994235      0.998053\n",
      "INFO:interface:stderr 2016-02-12T13:13:02.014547:      0.998053       1.41964       1.41964\n",
      "INFO:interface:stderr 2016-02-12T13:13:02.014547:++ ----- Baseline-only matrix condition [X] (292x12):  1.03725  ++ VERY GOOD ++\n",
      "INFO:interface:stderr 2016-02-12T13:13:02.014547:++ ----- polort-only matrix condition [X] (292x12):  1.03725  ++ VERY GOOD ++\n",
      "INFO:interface:stderr 2016-02-12T13:13:02.014547:++ 3dDeconvolve exits: -x1D_stop option was invoked\n"
     ]
    }
   ],
   "source": [
    "res = glm.run()"
   ]
  },
  {
   "cell_type": "code",
   "execution_count": 8,
   "metadata": {
    "collapsed": false
   },
   "outputs": [
    {
     "data": {
      "text/plain": [
       "\n",
       "img_file = /home/brain/nipype/ccp/DATA/ccpdeconvolve/X.png\n",
       "out_file = /home/brain/nipype/ccp/DATA/ccpdeconvolve/X.xmat.1D"
      ]
     },
     "execution_count": 8,
     "metadata": {},
     "output_type": "execute_result"
    }
   ],
   "source": [
    "res.outputs"
   ]
  },
  {
   "cell_type": "code",
   "execution_count": null,
   "metadata": {
    "collapsed": true
   },
   "outputs": [],
   "source": []
  }
 ],
 "metadata": {
  "kernelspec": {
   "display_name": "Python 2",
   "language": "python",
   "name": "python2"
  },
  "language_info": {
   "codemirror_mode": {
    "name": "ipython",
    "version": 2
   },
   "file_extension": ".py",
   "mimetype": "text/x-python",
   "name": "python",
   "nbconvert_exporter": "python",
   "pygments_lexer": "ipython2",
   "version": "2.7.10"
  }
 },
 "nbformat": 4,
 "nbformat_minor": 0
}
