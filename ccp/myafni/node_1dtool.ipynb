{
 "cells": [
  {
   "cell_type": "code",
   "execution_count": 1,
   "metadata": {
    "collapsed": false
   },
   "outputs": [
    {
     "name": "stdout",
     "output_type": "stream",
     "text": [
      "/home/brain/nipype/ccp/DATA\n",
      "['mean+orig.HEAD', 'mask_001+orig.HEAD', 'run002+orig.BRIK', 'run002+orig.HEAD', 'Movement_Regressors_ALL.txt', 'run001+orig.BRIK', 'sub003', 'automask', 'sub001', 'union', 'mean', 'run001+orig.HEAD', 'tcat', 'mask_002+orig.BRIK', 'my_workflow', 'scale', 'mean+orig.BRIK', 'mask_002+orig.HEAD', 'mask_001+orig.BRIK']\n"
     ]
    }
   ],
   "source": [
    "import os\n",
    "from nipype.interfaces import afni as afni\n",
    "import nipype.pipeline.engine as pe \n",
    "import nipype.interfaces.io as nio\n",
    "import nipype.interfaces.utility as util\n",
    "\n",
    "import warnings\n",
    "import re\n",
    "import sys\n",
    "from nipype.interfaces.afni.base import AFNICommand, AFNICommandInputSpec\n",
    "from nipype.interfaces.base import CommandLineInputSpec, CommandLine, TraitedSpec, traits, File, InputMultiPath, \\\n",
    "    isdefined\n",
    "    \n",
    "from interfaces import OneDTool\n",
    "data_dir = os.path.abspath('../DATA')\n",
    "print data_dir\n",
    "print os.listdir(data_dir)\n",
    "import glob"
   ]
  },
  {
   "cell_type": "code",
   "execution_count": 2,
   "metadata": {
    "collapsed": false
   },
   "outputs": [],
   "source": [
    "# NODE\n",
    "movdemean = pe.Node(interface=OneDTool(),\n",
    "                 name='movdemean')\n"
   ]
  },
  {
   "cell_type": "code",
   "execution_count": 3,
   "metadata": {
    "collapsed": false
   },
   "outputs": [
    {
     "data": {
      "text/plain": [
       "\n",
       "args = -demean\n",
       "collapse_cols = <undefined>\n",
       "environ = {}\n",
       "ignore_exception = False\n",
       "in_file = /home/brain/nipype/ccp/DATA/Movement_Regressors_ALL.txt\n",
       "out_file = motion_demean.1D\n",
       "terminal_output = stream\n",
       "tr_counts = [1000, 1000, 1000, 761]"
      ]
     },
     "execution_count": 3,
     "metadata": {},
     "output_type": "execute_result"
    }
   ],
   "source": [
    "movdemean.base_dir = data_dir\n",
    "movdemean.inputs.in_file = os.path.abspath('../DATA/Movement_Regressors_ALL.txt')\n",
    "movdemean.inputs.tr_counts = [1000, 1000, 1000, 761]\n",
    "movdemean.inputs.out_file = 'motion_demean.1D'\n",
    "movdemean.inputs.args = '-demean'\n",
    "movdemean.inputs"
   ]
  },
  {
   "cell_type": "code",
   "execution_count": 4,
   "metadata": {
    "collapsed": false
   },
   "outputs": [
    {
     "data": {
      "text/plain": [
       "'1d_tool.py -infile /home/brain/nipype/ccp/DATA/Movement_Regressors_ALL.txt -set_run_lengths 1000 1000 1000 761 -demean -write motion_demean.1D'"
      ]
     },
     "execution_count": 4,
     "metadata": {},
     "output_type": "execute_result"
    }
   ],
   "source": [
    "movdemean.interface.cmdline"
   ]
  },
  {
   "cell_type": "code",
   "execution_count": 5,
   "metadata": {
    "collapsed": false
   },
   "outputs": [
    {
     "name": "stderr",
     "output_type": "stream",
     "text": [
      "INFO:workflow:Executing node movdemean in dir: /home/brain/nipype/ccp/DATA/movdemean\n",
      "INFO:workflow:Running: 1d_tool.py -infile /home/brain/nipype/ccp/DATA/movdemean/Movement_Regressors_ALL.txt -set_run_lengths 1000 1000 1000 761 -demean -write motion_demean.1D\n"
     ]
    }
   ],
   "source": [
    "res = movdemean.run()"
   ]
  },
  {
   "cell_type": "code",
   "execution_count": 6,
   "metadata": {
    "collapsed": false
   },
   "outputs": [
    {
     "data": {
      "text/plain": [
       "\n",
       "out_file = /home/brain/nipype/ccp/DATA/movdemean/motion_demean.1D"
      ]
     },
     "execution_count": 6,
     "metadata": {},
     "output_type": "execute_result"
    }
   ],
   "source": [
    "res.outputs"
   ]
  },
  {
   "cell_type": "code",
   "execution_count": 2,
   "metadata": {
    "collapsed": true
   },
   "outputs": [],
   "source": [
    "# INTERFACE\n",
    "# 1d_tool.py -infile $movregfile -set_run_lengths $tr_counts -demean -write motion_demean.1D\n",
    "# 1d_tool.py -infile $movregfile -set_run_lengths $tr_counts -derivative -demean -write motion_deriv.1D\n",
    "a = OneDTool()\n",
    "a.inputs.in_file = os.path.abspath('../DATA/Movement_Regressors_ALL.txt')\n",
    "a.inputs.tr_counts = [1000, 1000, 1000, 761]\n",
    "a.inputs.out_file = 'motion_demean.1D'\n",
    "a.inputs.args = '-demean'\n",
    "a.inputs\n",
    "a.cmdline\n",
    "a.run().outputs\n",
    "b = OneDTool()\n",
    "b.inputs.in_file = os.path.abspath('../DATA/Movement_Regressors_ALL.txt')\n",
    "b.inputs.tr_counts = [1000, 1000, 1000, 761]\n",
    "b.inputs.out_file = 'motion_deriv.1D'\n",
    "b.inputs.args = '-derivative -demean'\n",
    "b.inputs\n",
    "b.cmdline\n",
    "b.run().outputs"
   ]
  },
  {
   "cell_type": "code",
   "execution_count": null,
   "metadata": {
    "collapsed": true
   },
   "outputs": [],
   "source": []
  }
 ],
 "metadata": {
  "kernelspec": {
   "display_name": "Python 2",
   "language": "python",
   "name": "python2"
  },
  "language_info": {
   "codemirror_mode": {
    "name": "ipython",
    "version": 2
   },
   "file_extension": ".py",
   "mimetype": "text/x-python",
   "name": "python",
   "nbconvert_exporter": "python",
   "pygments_lexer": "ipython2",
   "version": "2.7.10"
  }
 },
 "nbformat": 4,
 "nbformat_minor": 0
}
