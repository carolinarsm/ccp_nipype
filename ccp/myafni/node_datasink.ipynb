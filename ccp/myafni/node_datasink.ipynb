{
 "cells": [
  {
   "cell_type": "code",
   "execution_count": 1,
   "metadata": {
    "collapsed": false
   },
   "outputs": [
    {
     "name": "stdout",
     "output_type": "stream",
     "text": [
      "/home/brain/nipype/ccp/DATA\n",
      "['pypeline.log', 'wf1', 'sub003', 'sub001', 'union', 'ccpdeconvolve', 'mean', 'tcat', 'movdemean', 'scale', 'outputs_WF1', 'pypeline.lock', 'voxeldim']\n",
      "/home/brain/nipype/ccp/DATA/outputs_AFNI\n"
     ]
    }
   ],
   "source": [
    "import os\n",
    "from nipype.interfaces import afni as afni\n",
    "import nipype.pipeline.engine as pe \n",
    "import nipype.interfaces.io as nio\n",
    "import nipype.interfaces.utility as util\n",
    "\n",
    "import warnings\n",
    "import re\n",
    "import sys\n",
    "from nipype.interfaces.afni.base import AFNICommand, AFNICommandInputSpec\n",
    "from nipype.interfaces.base import CommandLineInputSpec, CommandLine, TraitedSpec, traits, File, InputMultiPath, \\\n",
    "    isdefined\n",
    "import glob\n",
    "\n",
    "#from nipype.interfaces.afni.ccpafni import CCPDeconvolve\n",
    "from interfaces import CCPDeconvolve, OneDTool, CCPMaskTool\n",
    "\n",
    "\n",
    "data_dir = os.path.abspath('../DATA')\n",
    "output_dir = data_dir + '/outputs_AFNI'\n",
    "print data_dir\n",
    "print os.listdir(data_dir)\n",
    "\n",
    "# LOGGING TO FILE\n",
    "from nipype import config, logging\n",
    "config.update_config({'logging': {'workflow_level': 'DEBUG',\n",
    "                                  'interface_level': 'DEBUG',\n",
    "                                  'log_directory': data_dir,\n",
    "                                  'log_to_file': True}})\n",
    "logging.update_logging(config)\n",
    "\n",
    "# DATA\n",
    "subject_list = ['sub001', 'sub003'] \n",
    "\n",
    "print output_dir\n",
    "tr_counts = [1000, 1000, 1000, 761]"
   ]
  },
  {
   "cell_type": "code",
   "execution_count": 2,
   "metadata": {
    "collapsed": false
   },
   "outputs": [],
   "source": [
    "infosource = pe.Node(util.IdentityInterface(fields=['subject_id']),\n",
    "                  name=\"infosource\")\n",
    "infosource.iterables = [('subject_id', subject_list)]"
   ]
  },
  {
   "cell_type": "code",
   "execution_count": 3,
   "metadata": {
    "collapsed": false
   },
   "outputs": [
    {
     "data": {
      "text/plain": [
       "\n",
       "base_directory = <undefined>\n",
       "force_lists = ['myfiles', 'onsets']\n",
       "ignore_exception = False\n",
       "raise_on_empty = True\n",
       "sort_filelist = True\n",
       "subject_id = <undefined>"
      ]
     },
     "execution_count": 3,
     "metadata": {},
     "output_type": "execute_result"
    }
   ],
   "source": [
    "# DATA SOURCE\n",
    "\n",
    "templates = {'myfiles': data_dir + \"/{subject_id}/run00[1,2].nii.gz\",\n",
    "             'movregs': data_dir + \"/{subject_id}/Movement_Regressors_ALL.txt\",\n",
    "             'onsets': data_dir + \"/{subject_id}/onsets_COND00[1,3]_ALL.txt\"}\n",
    "\n",
    "sf = pe.Node(interface=nio.SelectFiles(templates), \n",
    "             name='sf')\n",
    "#sf.iterables = ('subject_id', subject_list)\n",
    "#sf.inputs.base_directory = data_dir\n",
    "sf.inputs.sort_filelist = True\n",
    "#sf.inputs.force_lists = True\n",
    "#sf.inputs.subject_id = 'sub001'\n",
    "sf.inputs.force_lists = ['myfiles', 'onsets']\n",
    "#sf.inputs.subject_id = 'subject_id'\n",
    "sf.inputs\n",
    "\n"
   ]
  },
  {
   "cell_type": "code",
   "execution_count": 4,
   "metadata": {
    "collapsed": false
   },
   "outputs": [
    {
     "data": {
      "text/plain": [
       "\n",
       "args = -derivative\n",
       "collapse_cols = euclidean_norm\n",
       "environ = {}\n",
       "ignore_exception = False\n",
       "in_file = <undefined>\n",
       "out_file = mov_magnitude_enorm.1D\n",
       "terminal_output = stream\n",
       "tr_counts = [1000, 1000, 1000, 761]"
      ]
     },
     "execution_count": 4,
     "metadata": {},
     "output_type": "execute_result"
    }
   ],
   "source": [
    "wf_mov_magnitude = pe.Node(interface=OneDTool(),\n",
    "                 name='wf_mov_magnitude')\n",
    "\n",
    "#wf_mov_magnitude.base_dir = data_dir\n",
    "#wf_mov_magnitude.inputs.in_file = movregs\n",
    "wf_mov_magnitude.inputs.tr_counts = tr_counts\n",
    "wf_mov_magnitude.inputs.out_file = 'mov_magnitude_enorm.1D'\n",
    "wf_mov_magnitude.inputs.args = '-derivative'\n",
    "wf_mov_magnitude.inputs.collapse_cols = 'euclidean_norm'\n",
    "wf_mov_magnitude.inputs"
   ]
  },
  {
   "cell_type": "code",
   "execution_count": 5,
   "metadata": {
    "collapsed": false,
    "scrolled": true
   },
   "outputs": [],
   "source": [
    "#DATA SINK\n",
    "ds = pe.Node(interface=nio.DataSink(),\n",
    "            name=\"ds\")\n",
    "ds.inputs.base_directory = output_dir\n",
    "#ds.inputs.container = output_dir\n",
    "ds.inputs.parameterization = False\n",
    "substitutions = [('_subject_id_', '')]\n",
    "ds.inputs.substitutions = substitutions"
   ]
  },
  {
   "cell_type": "code",
   "execution_count": 6,
   "metadata": {
    "collapsed": true
   },
   "outputs": [],
   "source": [
    "wf = pe.Workflow(name=\"wf\")\n",
    "wf.base_dir = data_dir"
   ]
  },
  {
   "cell_type": "code",
   "execution_count": 7,
   "metadata": {
    "collapsed": false
   },
   "outputs": [
    {
     "name": "stderr",
     "output_type": "stream",
     "text": [
      "DEBUG:workflow:(wf.infosource, wf.sf): No edge data\n",
      "DEBUG:workflow:(wf.infosource, wf.sf): new edge data: {'connect': [('subject_id', 'subject_id')]}\n",
      "DEBUG:workflow:(wf.infosource, wf.ds): No edge data\n",
      "DEBUG:workflow:(wf.infosource, wf.ds): new edge data: {'connect': [('subject_id', 'container')]}\n",
      "DEBUG:workflow:(wf.sf, wf.wf_mov_magnitude): No edge data\n",
      "DEBUG:workflow:(wf.sf, wf.wf_mov_magnitude): new edge data: {'connect': [('movregs', 'in_file')]}\n",
      "DEBUG:workflow:(wf.wf_mov_magnitude, wf.ds): No edge data\n",
      "DEBUG:workflow:(wf.wf_mov_magnitude, wf.ds): new edge data: {'connect': [('out_file', 'magnitude')]}\n",
      "DEBUG:workflow:(wf.sf, wf.ds): No edge data\n",
      "DEBUG:workflow:(wf.sf, wf.ds): new edge data: {'connect': [('onsets', 'onsets')]}\n"
     ]
    }
   ],
   "source": [
    "wf.connect(infosource, 'subject_id', sf, 'subject_id')\n",
    "wf.connect(infosource, 'subject_id', ds, 'container')\n",
    "wf.connect(sf, 'movregs', wf_mov_magnitude, 'in_file')\n",
    "wf.connect(wf_mov_magnitude, 'out_file', ds, 'magnitude')\n",
    "#wf.connect(wf_mov_magnitude, ds, [('out_file','magnitude')])\n",
    "\n",
    "wf.connect(sf, 'onsets', ds, 'onsets')"
   ]
  },
  {
   "cell_type": "code",
   "execution_count": 8,
   "metadata": {
    "collapsed": false
   },
   "outputs": [
    {
     "name": "stderr",
     "output_type": "stream",
     "text": [
      "DEBUG:workflow:Creating flat graph for workflow: wf\n",
      "DEBUG:workflow:expanding workflow: wf\n",
      "DEBUG:workflow:processing node: wf.infosource\n",
      "DEBUG:workflow:processing node: wf.sf\n",
      "DEBUG:workflow:processing node: wf.wf_mov_magnitude\n",
      "DEBUG:workflow:processing node: wf.ds\n",
      "DEBUG:workflow:finished expanding workflow: wf\n",
      "INFO:workflow:['check', 'execution', 'logging']\n",
      "DEBUG:workflow:PE: expanding iterables\n",
      "DEBUG:workflow:Detected iterable nodes [wf.infosource]\n",
      "DEBUG:workflow:Expanding the iterable node wf.infosource...\n",
      "DEBUG:workflow:node: wf.infosource iterables: {'subject_id': <function <lambda> at 0x7f6e2e540500>}\n",
      "DEBUG:workflow:('subnodes:', [wf.infosource, wf.sf, wf.wf_mov_magnitude, wf.ds])\n",
      "DEBUG:workflow:setting nodelevel(wf.infosource.aI) input subject_id = sub001\n",
      "DEBUG:workflow:setting nodelevel(wf.infosource.aI) input subject_id = sub003\n",
      "DEBUG:workflow:PE: expanding iterables ... done\n",
      "DEBUG:workflow:setting nodelevel(wf.sf.a1) input subject_id = sub003\n",
      "DEBUG:workflow:setting nodelevel(wf.ds.a1) input container = sub003\n",
      "DEBUG:workflow:Removed the identity node wf.infosource.aI.a1 from the graph.\n",
      "DEBUG:workflow:setting nodelevel(wf.sf.a0) input subject_id = sub001\n",
      "DEBUG:workflow:setting nodelevel(wf.ds.a0) input container = sub001\n",
      "DEBUG:workflow:Removed the identity node wf.infosource.aI.a0 from the graph.\n",
      "DEBUG:workflow:Performing depth first search\n",
      "INFO:workflow:Running serially.\n",
      "DEBUG:workflow:Setting node inputs\n",
      "INFO:workflow:Executing node sf.a1 in dir: /home/brain/nipype/ccp/DATA/wf/_subject_id_sub003/sf\n",
      "DEBUG:workflow:[]\n",
      "DEBUG:workflow:/home/brain/nipype/ccp/DATA/wf/_subject_id_sub003/sf/_0xe07777e8f147f9b00c41ed111eae3778.json\n",
      "DEBUG:workflow:('updatehash, overwrite, always_run, hash_exists', False, None, True, False)\n",
      "DEBUG:workflow:Node hash: e07777e8f147f9b00c41ed111eae3778\n",
      "DEBUG:workflow:/home/brain/nipype/ccp/DATA/wf/_subject_id_sub003/sf/_0xe07777e8f147f9b00c41ed111eae3778_unfinished.json found and can_resume is True or Node is a MapNode - resuming execution\n",
      "DEBUG:workflow:Creating /home/brain/nipype/ccp/DATA/wf/_subject_id_sub003/sf\n",
      "DEBUG:workflow:writing pre-exec report to /home/brain/nipype/ccp/DATA/wf/_subject_id_sub003/sf/_report/report.rst\n",
      "DEBUG:workflow:Executing node\n",
      "DEBUG:workflow:copying files to wd [execute=True, linksonly=False]\n",
      "DEBUG:workflow:Needed files: /home/brain/nipype/ccp/DATA/sub003/Movement_Regressors_ALL.txt;/home/brain/nipype/ccp/DATA/sub003/onsets_COND001_ALL.txt;/home/brain/nipype/ccp/DATA/sub003/onsets_COND003_ALL.txt;/home/brain/nipype/ccp/DATA/wf/_subject_id_sub003/sf/_0xe07777e8f147f9b00c41ed111eae3778_unfinished.json;/home/brain/nipype/ccp/DATA/wf/_subject_id_sub003/sf/_inputs.pklz;/home/brain/nipype/ccp/DATA/wf/_subject_id_sub003/sf/_node.pklz\n",
      "DEBUG:workflow:Needed dirs: /home/brain/nipype/ccp/DATA/wf/_subject_id_sub003/sf/_report\n",
      "DEBUG:workflow:Removing files: \n",
      "DEBUG:workflow:saved results in /home/brain/nipype/ccp/DATA/wf/_subject_id_sub003/sf/result_sf.pklz\n",
      "DEBUG:workflow:writing post-exec report to /home/brain/nipype/ccp/DATA/wf/_subject_id_sub003/sf/_report/report.rst\n",
      "DEBUG:workflow:Finished running sf.a1 in dir: /home/brain/nipype/ccp/DATA/wf/_subject_id_sub003/sf\n",
      "\n",
      "DEBUG:workflow:Setting node inputs\n",
      "DEBUG:workflow:input: in_file\n",
      "DEBUG:workflow:results file: /home/brain/nipype/ccp/DATA/wf/_subject_id_sub003/sf/result_sf.pklz\n",
      "DEBUG:workflow:output: movregs\n",
      "DEBUG:workflow:setting nodelevel(wf.wf_mov_magnitude.a1) input in_file = /home/brain/nipype/ccp/DATA/sub003/Movement_Regressors_ALL.txt\n",
      "INFO:workflow:Executing node wf_mov_magnitude.a1 in dir: /home/brain/nipype/ccp/DATA/wf/_subject_id_sub003/wf_mov_magnitude\n",
      "DEBUG:workflow:[]\n",
      "DEBUG:workflow:/home/brain/nipype/ccp/DATA/wf/_subject_id_sub003/wf_mov_magnitude/_0xb4269540d11762ebf3acb439d55f521c.json\n",
      "DEBUG:workflow:('updatehash, overwrite, always_run, hash_exists', False, None, False, False)\n",
      "DEBUG:workflow:Node hash: b4269540d11762ebf3acb439d55f521c\n",
      "DEBUG:workflow:/home/brain/nipype/ccp/DATA/wf/_subject_id_sub003/wf_mov_magnitude/_0xb4269540d11762ebf3acb439d55f521c_unfinished.json found and can_resume is True or Node is a MapNode - resuming execution\n",
      "DEBUG:workflow:Creating /home/brain/nipype/ccp/DATA/wf/_subject_id_sub003/wf_mov_magnitude\n",
      "DEBUG:workflow:writing pre-exec report to /home/brain/nipype/ccp/DATA/wf/_subject_id_sub003/wf_mov_magnitude/_report/report.rst\n",
      "DEBUG:workflow:Executing node\n",
      "DEBUG:workflow:copying files to wd [execute=True, linksonly=False]\n",
      "DEBUG:interface:args_-derivative\n",
      "DEBUG:interface:in_file_/home/brain/nipype/ccp/DATA/wf/_subject_id_sub003/wf_mov_magnitude/Movement_Regressors_ALL.txt\n",
      "DEBUG:interface:out_file_mov_magnitude_enorm.1D\n",
      "DEBUG:interface:tr_counts_[1000, 1000, 1000, 761]\n",
      "INFO:workflow:Running: 1d_tool.py -infile /home/brain/nipype/ccp/DATA/wf/_subject_id_sub003/wf_mov_magnitude/Movement_Regressors_ALL.txt -set_run_lengths 1000 1000 1000 761 -derivative -write mov_magnitude_enorm.1D\n",
      "DEBUG:interface:args_-derivative\n",
      "DEBUG:interface:in_file_/home/brain/nipype/ccp/DATA/wf/_subject_id_sub003/wf_mov_magnitude/Movement_Regressors_ALL.txt\n",
      "DEBUG:interface:out_file_mov_magnitude_enorm.1D\n",
      "DEBUG:interface:tr_counts_[1000, 1000, 1000, 761]\n",
      "DEBUG:interface:{'DISPLAY': ':1'}\n",
      "DEBUG:workflow:Needed files: /home/brain/nipype/ccp/DATA/wf/_subject_id_sub003/wf_mov_magnitude/mov_magnitude_enorm.1D;/home/brain/nipype/ccp/DATA/wf/_subject_id_sub003/wf_mov_magnitude/_0xb4269540d11762ebf3acb439d55f521c_unfinished.json;/home/brain/nipype/ccp/DATA/wf/_subject_id_sub003/wf_mov_magnitude/command.txt;/home/brain/nipype/ccp/DATA/wf/_subject_id_sub003/wf_mov_magnitude/_inputs.pklz;/home/brain/nipype/ccp/DATA/wf/_subject_id_sub003/wf_mov_magnitude/_node.pklz\n",
      "DEBUG:workflow:Needed dirs: /home/brain/nipype/ccp/DATA/wf/_subject_id_sub003/wf_mov_magnitude/_report\n",
      "DEBUG:workflow:Removing files: /home/brain/nipype/ccp/DATA/wf/_subject_id_sub003/wf_mov_magnitude/Movement_Regressors_ALL.txt\n",
      "DEBUG:workflow:saved results in /home/brain/nipype/ccp/DATA/wf/_subject_id_sub003/wf_mov_magnitude/result_wf_mov_magnitude.pklz\n",
      "DEBUG:workflow:writing post-exec report to /home/brain/nipype/ccp/DATA/wf/_subject_id_sub003/wf_mov_magnitude/_report/report.rst\n",
      "DEBUG:workflow:Finished running wf_mov_magnitude.a1 in dir: /home/brain/nipype/ccp/DATA/wf/_subject_id_sub003/wf_mov_magnitude\n",
      "\n",
      "DEBUG:workflow:Setting node inputs\n",
      "INFO:workflow:Executing node sf.a0 in dir: /home/brain/nipype/ccp/DATA/wf/_subject_id_sub001/sf\n",
      "DEBUG:workflow:[]\n",
      "DEBUG:workflow:/home/brain/nipype/ccp/DATA/wf/_subject_id_sub001/sf/_0xf7a25f2ba0aef30d6bbe632f90653575.json\n",
      "DEBUG:workflow:('updatehash, overwrite, always_run, hash_exists', False, None, True, False)\n",
      "DEBUG:workflow:Node hash: f7a25f2ba0aef30d6bbe632f90653575\n",
      "DEBUG:workflow:/home/brain/nipype/ccp/DATA/wf/_subject_id_sub001/sf/_0xf7a25f2ba0aef30d6bbe632f90653575_unfinished.json found and can_resume is True or Node is a MapNode - resuming execution\n",
      "DEBUG:workflow:Creating /home/brain/nipype/ccp/DATA/wf/_subject_id_sub001/sf\n",
      "DEBUG:workflow:writing pre-exec report to /home/brain/nipype/ccp/DATA/wf/_subject_id_sub001/sf/_report/report.rst\n",
      "DEBUG:workflow:Executing node\n",
      "DEBUG:workflow:copying files to wd [execute=True, linksonly=False]\n",
      "DEBUG:workflow:Needed files: /home/brain/nipype/ccp/DATA/sub001/Movement_Regressors_ALL.txt;/home/brain/nipype/ccp/DATA/sub001/onsets_COND001_ALL.txt;/home/brain/nipype/ccp/DATA/sub001/onsets_COND003_ALL.txt;/home/brain/nipype/ccp/DATA/wf/_subject_id_sub001/sf/_0xf7a25f2ba0aef30d6bbe632f90653575_unfinished.json;/home/brain/nipype/ccp/DATA/wf/_subject_id_sub001/sf/_inputs.pklz;/home/brain/nipype/ccp/DATA/wf/_subject_id_sub001/sf/_node.pklz\n",
      "DEBUG:workflow:Needed dirs: /home/brain/nipype/ccp/DATA/wf/_subject_id_sub001/sf/_report\n",
      "DEBUG:workflow:Removing files: \n",
      "DEBUG:workflow:saved results in /home/brain/nipype/ccp/DATA/wf/_subject_id_sub001/sf/result_sf.pklz\n",
      "DEBUG:workflow:writing post-exec report to /home/brain/nipype/ccp/DATA/wf/_subject_id_sub001/sf/_report/report.rst\n",
      "DEBUG:workflow:Finished running sf.a0 in dir: /home/brain/nipype/ccp/DATA/wf/_subject_id_sub001/sf\n",
      "\n",
      "DEBUG:workflow:Setting node inputs\n",
      "DEBUG:workflow:input: in_file\n",
      "DEBUG:workflow:results file: /home/brain/nipype/ccp/DATA/wf/_subject_id_sub001/sf/result_sf.pklz\n",
      "DEBUG:workflow:output: movregs\n",
      "DEBUG:workflow:setting nodelevel(wf.wf_mov_magnitude.a0) input in_file = /home/brain/nipype/ccp/DATA/sub001/Movement_Regressors_ALL.txt\n",
      "INFO:workflow:Executing node wf_mov_magnitude.a0 in dir: /home/brain/nipype/ccp/DATA/wf/_subject_id_sub001/wf_mov_magnitude\n",
      "DEBUG:workflow:[]\n",
      "DEBUG:workflow:/home/brain/nipype/ccp/DATA/wf/_subject_id_sub001/wf_mov_magnitude/_0x95a6e45a4bf9bd4ebcdc9f61fa536e61.json\n",
      "DEBUG:workflow:('updatehash, overwrite, always_run, hash_exists', False, None, False, False)\n",
      "DEBUG:workflow:Node hash: 95a6e45a4bf9bd4ebcdc9f61fa536e61\n",
      "DEBUG:workflow:/home/brain/nipype/ccp/DATA/wf/_subject_id_sub001/wf_mov_magnitude/_0x95a6e45a4bf9bd4ebcdc9f61fa536e61_unfinished.json found and can_resume is True or Node is a MapNode - resuming execution\n",
      "DEBUG:workflow:Creating /home/brain/nipype/ccp/DATA/wf/_subject_id_sub001/wf_mov_magnitude\n",
      "DEBUG:workflow:writing pre-exec report to /home/brain/nipype/ccp/DATA/wf/_subject_id_sub001/wf_mov_magnitude/_report/report.rst\n",
      "DEBUG:workflow:Executing node\n",
      "DEBUG:workflow:copying files to wd [execute=True, linksonly=False]\n",
      "DEBUG:interface:args_-derivative\n",
      "DEBUG:interface:in_file_/home/brain/nipype/ccp/DATA/wf/_subject_id_sub001/wf_mov_magnitude/Movement_Regressors_ALL.txt\n",
      "DEBUG:interface:out_file_mov_magnitude_enorm.1D\n",
      "DEBUG:interface:tr_counts_[1000, 1000, 1000, 761]\n",
      "INFO:workflow:Running: 1d_tool.py -infile /home/brain/nipype/ccp/DATA/wf/_subject_id_sub001/wf_mov_magnitude/Movement_Regressors_ALL.txt -set_run_lengths 1000 1000 1000 761 -derivative -write mov_magnitude_enorm.1D\n",
      "DEBUG:interface:args_-derivative\n",
      "DEBUG:interface:in_file_/home/brain/nipype/ccp/DATA/wf/_subject_id_sub001/wf_mov_magnitude/Movement_Regressors_ALL.txt\n",
      "DEBUG:interface:out_file_mov_magnitude_enorm.1D\n",
      "DEBUG:interface:tr_counts_[1000, 1000, 1000, 761]\n",
      "DEBUG:interface:{'DISPLAY': ':1'}\n",
      "DEBUG:workflow:Needed files: /home/brain/nipype/ccp/DATA/wf/_subject_id_sub001/wf_mov_magnitude/mov_magnitude_enorm.1D;/home/brain/nipype/ccp/DATA/wf/_subject_id_sub001/wf_mov_magnitude/_0x95a6e45a4bf9bd4ebcdc9f61fa536e61_unfinished.json;/home/brain/nipype/ccp/DATA/wf/_subject_id_sub001/wf_mov_magnitude/command.txt;/home/brain/nipype/ccp/DATA/wf/_subject_id_sub001/wf_mov_magnitude/_inputs.pklz;/home/brain/nipype/ccp/DATA/wf/_subject_id_sub001/wf_mov_magnitude/_node.pklz\n",
      "DEBUG:workflow:Needed dirs: /home/brain/nipype/ccp/DATA/wf/_subject_id_sub001/wf_mov_magnitude/_report\n",
      "DEBUG:workflow:Removing files: /home/brain/nipype/ccp/DATA/wf/_subject_id_sub001/wf_mov_magnitude/Movement_Regressors_ALL.txt\n",
      "DEBUG:workflow:saved results in /home/brain/nipype/ccp/DATA/wf/_subject_id_sub001/wf_mov_magnitude/result_wf_mov_magnitude.pklz\n",
      "DEBUG:workflow:writing post-exec report to /home/brain/nipype/ccp/DATA/wf/_subject_id_sub001/wf_mov_magnitude/_report/report.rst\n",
      "DEBUG:workflow:Finished running wf_mov_magnitude.a0 in dir: /home/brain/nipype/ccp/DATA/wf/_subject_id_sub001/wf_mov_magnitude\n",
      "\n",
      "DEBUG:workflow:Setting node inputs\n",
      "DEBUG:workflow:input: onsets\n",
      "DEBUG:workflow:results file: /home/brain/nipype/ccp/DATA/wf/_subject_id_sub003/sf/result_sf.pklz\n",
      "DEBUG:workflow:output: onsets\n",
      "DEBUG:workflow:setting nodelevel(wf.ds.a1) input onsets = ['/home/brain/nipype/ccp/DATA/sub003/onsets_COND001_ALL.txt', '/home/brain/nipype/ccp/DATA/sub003/onsets_COND003_ALL.txt']\n",
      "DEBUG:workflow:input: magnitude\n",
      "DEBUG:workflow:results file: /home/brain/nipype/ccp/DATA/wf/_subject_id_sub003/wf_mov_magnitude/result_wf_mov_magnitude.pklz\n",
      "DEBUG:workflow:output: out_file\n",
      "DEBUG:workflow:setting nodelevel(wf.ds.a1) input magnitude = /home/brain/nipype/ccp/DATA/wf/_subject_id_sub003/wf_mov_magnitude/mov_magnitude_enorm.1D\n",
      "INFO:workflow:Executing node ds.a1 in dir: /home/brain/nipype/ccp/DATA/wf/_subject_id_sub003/ds\n",
      "DEBUG:workflow:[]\n",
      "DEBUG:workflow:/home/brain/nipype/ccp/DATA/wf/_subject_id_sub003/ds/_0x8ca4733caa031776ec101a77d3de914b.json\n",
      "DEBUG:workflow:('updatehash, overwrite, always_run, hash_exists', False, None, True, False)\n",
      "DEBUG:workflow:Node hash: 8ca4733caa031776ec101a77d3de914b\n",
      "DEBUG:workflow:/home/brain/nipype/ccp/DATA/wf/_subject_id_sub003/ds/_0x8ca4733caa031776ec101a77d3de914b_unfinished.json found and can_resume is True or Node is a MapNode - resuming execution\n",
      "DEBUG:workflow:Creating /home/brain/nipype/ccp/DATA/wf/_subject_id_sub003/ds\n",
      "DEBUG:workflow:writing pre-exec report to /home/brain/nipype/ccp/DATA/wf/_subject_id_sub003/ds/_report/report.rst\n",
      "DEBUG:workflow:Executing node\n",
      "DEBUG:workflow:copying files to wd [execute=True, linksonly=False]\n",
      "DEBUG:interface:key: onsets files: ['/home/brain/nipype/ccp/DATA/sub003/onsets_COND001_ALL.txt', '/home/brain/nipype/ccp/DATA/sub003/onsets_COND003_ALL.txt']\n",
      "DEBUG:interface:copyfile: /home/brain/nipype/ccp/DATA/sub003/onsets_COND001_ALL.txt /home/brain/nipype/ccp/DATA/outputs_AFNI/sub003/onsets/onsets_COND001_ALL.txt\n",
      "DEBUG:interface:copyfile: /home/brain/nipype/ccp/DATA/sub003/onsets_COND003_ALL.txt /home/brain/nipype/ccp/DATA/outputs_AFNI/sub003/onsets/onsets_COND003_ALL.txt\n",
      "DEBUG:interface:key: magnitude files: /home/brain/nipype/ccp/DATA/wf/_subject_id_sub003/wf_mov_magnitude/mov_magnitude_enorm.1D\n",
      "DEBUG:interface:copyfile: /home/brain/nipype/ccp/DATA/wf/_subject_id_sub003/wf_mov_magnitude/mov_magnitude_enorm.1D /home/brain/nipype/ccp/DATA/outputs_AFNI/sub003/magnitude/mov_magnitude_enorm.1D\n",
      "DEBUG:workflow:Needed files: /home/brain/nipype/ccp/DATA/outputs_AFNI/sub003/onsets/onsets_COND001_ALL.txt;/home/brain/nipype/ccp/DATA/outputs_AFNI/sub003/onsets/onsets_COND003_ALL.txt;/home/brain/nipype/ccp/DATA/outputs_AFNI/sub003/magnitude/mov_magnitude_enorm.1D;/home/brain/nipype/ccp/DATA/wf/_subject_id_sub003/ds/_0x8ca4733caa031776ec101a77d3de914b_unfinished.json;/home/brain/nipype/ccp/DATA/wf/_subject_id_sub003/ds/_inputs.pklz;/home/brain/nipype/ccp/DATA/wf/_subject_id_sub003/ds/_node.pklz\n",
      "DEBUG:workflow:Needed dirs: /home/brain/nipype/ccp/DATA/wf/_subject_id_sub003/ds/_report\n",
      "DEBUG:workflow:Removing files: \n",
      "DEBUG:workflow:saved results in /home/brain/nipype/ccp/DATA/wf/_subject_id_sub003/ds/result_ds.pklz\n",
      "DEBUG:workflow:writing post-exec report to /home/brain/nipype/ccp/DATA/wf/_subject_id_sub003/ds/_report/report.rst\n",
      "DEBUG:workflow:Finished running ds.a1 in dir: /home/brain/nipype/ccp/DATA/wf/_subject_id_sub003/ds\n",
      "\n",
      "DEBUG:workflow:Setting node inputs\n",
      "DEBUG:workflow:input: onsets\n",
      "DEBUG:workflow:results file: /home/brain/nipype/ccp/DATA/wf/_subject_id_sub001/sf/result_sf.pklz\n",
      "DEBUG:workflow:output: onsets\n",
      "DEBUG:workflow:setting nodelevel(wf.ds.a0) input onsets = ['/home/brain/nipype/ccp/DATA/sub001/onsets_COND001_ALL.txt', '/home/brain/nipype/ccp/DATA/sub001/onsets_COND003_ALL.txt']\n",
      "DEBUG:workflow:input: magnitude\n",
      "DEBUG:workflow:results file: /home/brain/nipype/ccp/DATA/wf/_subject_id_sub001/wf_mov_magnitude/result_wf_mov_magnitude.pklz\n",
      "DEBUG:workflow:output: out_file\n",
      "DEBUG:workflow:setting nodelevel(wf.ds.a0) input magnitude = /home/brain/nipype/ccp/DATA/wf/_subject_id_sub001/wf_mov_magnitude/mov_magnitude_enorm.1D\n",
      "INFO:workflow:Executing node ds.a0 in dir: /home/brain/nipype/ccp/DATA/wf/_subject_id_sub001/ds\n",
      "DEBUG:workflow:[]\n",
      "DEBUG:workflow:/home/brain/nipype/ccp/DATA/wf/_subject_id_sub001/ds/_0x71b1d224e8d189d372e57cdab8c31fd1.json\n",
      "DEBUG:workflow:('updatehash, overwrite, always_run, hash_exists', False, None, True, False)\n",
      "DEBUG:workflow:Node hash: 71b1d224e8d189d372e57cdab8c31fd1\n",
      "DEBUG:workflow:/home/brain/nipype/ccp/DATA/wf/_subject_id_sub001/ds/_0x71b1d224e8d189d372e57cdab8c31fd1_unfinished.json found and can_resume is True or Node is a MapNode - resuming execution\n",
      "DEBUG:workflow:Creating /home/brain/nipype/ccp/DATA/wf/_subject_id_sub001/ds\n",
      "DEBUG:workflow:writing pre-exec report to /home/brain/nipype/ccp/DATA/wf/_subject_id_sub001/ds/_report/report.rst\n",
      "DEBUG:workflow:Executing node\n",
      "DEBUG:workflow:copying files to wd [execute=True, linksonly=False]\n",
      "DEBUG:interface:key: onsets files: ['/home/brain/nipype/ccp/DATA/sub001/onsets_COND001_ALL.txt', '/home/brain/nipype/ccp/DATA/sub001/onsets_COND003_ALL.txt']\n",
      "DEBUG:interface:copyfile: /home/brain/nipype/ccp/DATA/sub001/onsets_COND001_ALL.txt /home/brain/nipype/ccp/DATA/outputs_AFNI/sub001/onsets/onsets_COND001_ALL.txt\n",
      "DEBUG:interface:copyfile: /home/brain/nipype/ccp/DATA/sub001/onsets_COND003_ALL.txt /home/brain/nipype/ccp/DATA/outputs_AFNI/sub001/onsets/onsets_COND003_ALL.txt\n",
      "DEBUG:interface:key: magnitude files: /home/brain/nipype/ccp/DATA/wf/_subject_id_sub001/wf_mov_magnitude/mov_magnitude_enorm.1D\n",
      "DEBUG:interface:copyfile: /home/brain/nipype/ccp/DATA/wf/_subject_id_sub001/wf_mov_magnitude/mov_magnitude_enorm.1D /home/brain/nipype/ccp/DATA/outputs_AFNI/sub001/magnitude/mov_magnitude_enorm.1D\n",
      "DEBUG:workflow:Needed files: /home/brain/nipype/ccp/DATA/outputs_AFNI/sub001/onsets/onsets_COND001_ALL.txt;/home/brain/nipype/ccp/DATA/outputs_AFNI/sub001/onsets/onsets_COND003_ALL.txt;/home/brain/nipype/ccp/DATA/outputs_AFNI/sub001/magnitude/mov_magnitude_enorm.1D;/home/brain/nipype/ccp/DATA/wf/_subject_id_sub001/ds/_0x71b1d224e8d189d372e57cdab8c31fd1_unfinished.json;/home/brain/nipype/ccp/DATA/wf/_subject_id_sub001/ds/_inputs.pklz;/home/brain/nipype/ccp/DATA/wf/_subject_id_sub001/ds/_node.pklz\n",
      "DEBUG:workflow:Needed dirs: /home/brain/nipype/ccp/DATA/wf/_subject_id_sub001/ds/_report\n",
      "DEBUG:workflow:Removing files: \n",
      "DEBUG:workflow:saved results in /home/brain/nipype/ccp/DATA/wf/_subject_id_sub001/ds/result_ds.pklz\n",
      "DEBUG:workflow:writing post-exec report to /home/brain/nipype/ccp/DATA/wf/_subject_id_sub001/ds/_report/report.rst\n",
      "DEBUG:workflow:Finished running ds.a0 in dir: /home/brain/nipype/ccp/DATA/wf/_subject_id_sub001/ds\n",
      "\n"
     ]
    },
    {
     "data": {
      "text/plain": [
       "<networkx.classes.digraph.DiGraph at 0x7f6e2e5b1d90>"
      ]
     },
     "execution_count": 8,
     "metadata": {},
     "output_type": "execute_result"
    }
   ],
   "source": [
    "wf.run()\n",
    "wf.write_graph(graph2use='exec')"
   ]
  },
  {
   "cell_type": "code",
   "execution_count": 10,
   "metadata": {
    "collapsed": false
   },
   "outputs": [
    {
     "name": "stdout",
     "output_type": "stream",
     "text": [
      "[]\n"
     ]
    }
   ],
   "source": [
    "from nipype.utils.filemanip import loadpkl\n",
    "print loadpkl('../DATA/wf/_subject_id_sub001/wf_mov_magnitude/result_wf_mov_magnitude.pklz').runtime.merged"
   ]
  },
  {
   "cell_type": "code",
   "execution_count": 29,
   "metadata": {
    "collapsed": false
   },
   "outputs": [
    {
     "ename": "TypeError",
     "evalue": "'NoneType' object has no attribute '__getitem__'",
     "output_type": "error",
     "traceback": [
      "\u001b[1;31m---------------------------------------------------------------------------\u001b[0m",
      "\u001b[1;31mTypeError\u001b[0m                                 Traceback (most recent call last)",
      "\u001b[1;32m<ipython-input-29-5567e8dce009>\u001b[0m in \u001b[0;36m<module>\u001b[1;34m()\u001b[0m\n\u001b[1;32m----> 1\u001b[1;33m \u001b[0mwf_mov_magnitude\u001b[0m\u001b[1;33m.\u001b[0m\u001b[0mwrite_report\u001b[0m\u001b[1;33m(\u001b[0m\u001b[0mreport_type\u001b[0m\u001b[1;33m=\u001b[0m\u001b[1;34m'preexec'\u001b[0m\u001b[1;33m,\u001b[0m \u001b[0mcwd\u001b[0m\u001b[1;33m=\u001b[0m\u001b[0moutput_dir\u001b[0m\u001b[1;33m)\u001b[0m\u001b[1;33m\u001b[0m\u001b[0m\n\u001b[0m",
      "\u001b[1;32m/home/brain/anaconda/lib/python2.7/site-packages/nipype/pipeline/engine.pyc\u001b[0m in \u001b[0;36mwrite_report\u001b[1;34m(self, report_type, cwd)\u001b[0m\n\u001b[0;32m   1741\u001b[0m \u001b[1;33m\u001b[0m\u001b[0m\n\u001b[0;32m   1742\u001b[0m     \u001b[1;32mdef\u001b[0m \u001b[0mwrite_report\u001b[0m\u001b[1;33m(\u001b[0m\u001b[0mself\u001b[0m\u001b[1;33m,\u001b[0m \u001b[0mreport_type\u001b[0m\u001b[1;33m=\u001b[0m\u001b[0mNone\u001b[0m\u001b[1;33m,\u001b[0m \u001b[0mcwd\u001b[0m\u001b[1;33m=\u001b[0m\u001b[0mNone\u001b[0m\u001b[1;33m)\u001b[0m\u001b[1;33m:\u001b[0m\u001b[1;33m\u001b[0m\u001b[0m\n\u001b[1;32m-> 1743\u001b[1;33m         \u001b[1;32mif\u001b[0m \u001b[1;32mnot\u001b[0m \u001b[0mstr2bool\u001b[0m\u001b[1;33m(\u001b[0m\u001b[0mself\u001b[0m\u001b[1;33m.\u001b[0m\u001b[0mconfig\u001b[0m\u001b[1;33m[\u001b[0m\u001b[1;34m'execution'\u001b[0m\u001b[1;33m]\u001b[0m\u001b[1;33m[\u001b[0m\u001b[1;34m'create_report'\u001b[0m\u001b[1;33m]\u001b[0m\u001b[1;33m)\u001b[0m\u001b[1;33m:\u001b[0m\u001b[1;33m\u001b[0m\u001b[0m\n\u001b[0m\u001b[0;32m   1744\u001b[0m             \u001b[1;32mreturn\u001b[0m\u001b[1;33m\u001b[0m\u001b[0m\n\u001b[0;32m   1745\u001b[0m         \u001b[0mreport_dir\u001b[0m \u001b[1;33m=\u001b[0m \u001b[0mop\u001b[0m\u001b[1;33m.\u001b[0m\u001b[0mjoin\u001b[0m\u001b[1;33m(\u001b[0m\u001b[0mcwd\u001b[0m\u001b[1;33m,\u001b[0m \u001b[1;34m'_report'\u001b[0m\u001b[1;33m)\u001b[0m\u001b[1;33m\u001b[0m\u001b[0m\n",
      "\u001b[1;31mTypeError\u001b[0m: 'NoneType' object has no attribute '__getitem__'"
     ]
    }
   ],
   "source": [
    "wf_mov_magnitude.write_report(report_type='preexec', cwd=output_dir)"
   ]
  },
  {
   "cell_type": "code",
   "execution_count": 31,
   "metadata": {
    "collapsed": false
   },
   "outputs": [
    {
     "data": {
      "text/plain": [
       "'/tmp/tmpP5Ujku/wf/wf_mov_magnitude'"
      ]
     },
     "execution_count": 31,
     "metadata": {},
     "output_type": "execute_result"
    }
   ],
   "source": [
    "wf_mov_magnitude.output_dir()"
   ]
  },
  {
   "cell_type": "code",
   "execution_count": 34,
   "metadata": {
    "collapsed": false
   },
   "outputs": [
    {
     "data": {
      "text/plain": [
       "'/home/brain/nipype/ccp/DATA'"
      ]
     },
     "execution_count": 34,
     "metadata": {},
     "output_type": "execute_result"
    }
   ],
   "source": [
    "wf.base_dir"
   ]
  },
  {
   "cell_type": "code",
   "execution_count": null,
   "metadata": {
    "collapsed": true
   },
   "outputs": [],
   "source": [
    "#in function 'write_report' (pipeline/engine/nodes.py)\n",
    "\n",
    "if op.exists(report_file):\n",
    "    return report_file\n",
    "# will return a path to the report file"
   ]
  }
 ],
 "metadata": {
  "kernelspec": {
   "display_name": "Python 2",
   "language": "python",
   "name": "python2"
  },
  "language_info": {
   "codemirror_mode": {
    "name": "ipython",
    "version": 2
   },
   "file_extension": ".py",
   "mimetype": "text/x-python",
   "name": "python",
   "nbconvert_exporter": "python",
   "pygments_lexer": "ipython2",
   "version": "2.7.10"
  }
 },
 "nbformat": 4,
 "nbformat_minor": 0
}
