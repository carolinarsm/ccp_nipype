{
 "cells": [
  {
   "cell_type": "code",
   "execution_count": 1,
   "metadata": {
    "collapsed": false
   },
   "outputs": [
    {
     "name": "stdout",
     "output_type": "stream",
     "text": [
      "/home/brain/nipype/ccp/DATA\n",
      "['mean+orig.HEAD', 'mask_001+orig.HEAD', 'run002+orig.BRIK', 'run002+orig.HEAD', 'run001+orig.BRIK', 'sub003', 'automask', 'sub001', 'union', 'mean', 'run001+orig.HEAD', 'mask_002+orig.BRIK', 'my_workflow', 'mean+orig.BRIK', 'mask_002+orig.HEAD', 'mask_001+orig.BRIK']\n"
     ]
    }
   ],
   "source": [
    "import os\n",
    "from nipype.interfaces import afni as afni\n",
    "import nipype.pipeline.engine as pe \n",
    "import nipype.interfaces.io as nio\n",
    "import nipype.interfaces.utility as util\n",
    "\n",
    "import warnings\n",
    "import re\n",
    "import sys\n",
    "from nipype.interfaces.afni.base import AFNICommand, AFNICommandInputSpec\n",
    "from nipype.interfaces.base import CommandLineInputSpec, CommandLine, TraitedSpec, traits, File, InputMultiPath, \\\n",
    "    isdefined\n",
    "\n",
    "data_dir = os.path.abspath('../DATA')\n",
    "print data_dir\n",
    "print os.listdir(data_dir)\n",
    "import glob"
   ]
  },
  {
   "cell_type": "code",
   "execution_count": 2,
   "metadata": {
    "collapsed": true
   },
   "outputs": [],
   "source": [
    "# NODE\n",
    "# 3dcalc -a origfile -b meanfile \\\n",
    "#           -expr 'min(200, a/b*100)*step(a)*step(b)'           \\\n",
    "#           -prefix scale"
   ]
  },
  {
   "cell_type": "code",
   "execution_count": 3,
   "metadata": {
    "collapsed": false
   },
   "outputs": [],
   "source": [
    "scale = pe.Node(interface=afni.Calc(),\n",
    "              name='scale')"
   ]
  },
  {
   "cell_type": "code",
   "execution_count": 4,
   "metadata": {
    "collapsed": false
   },
   "outputs": [
    {
     "data": {
      "text/plain": [
       "\n",
       "args = <undefined>\n",
       "environ = {}\n",
       "expr = min(200, a/b*100)*step(a)*step(b)\n",
       "ignore_exception = False\n",
       "in_file_a = /home/brain/nipype/ccp/DATA/run001+orig.BRIK\n",
       "in_file_b = /home/brain/nipype/ccp/DATA/mean+orig.BRIK\n",
       "in_file_c = <undefined>\n",
       "other = <undefined>\n",
       "out_file = scale\n",
       "outputtype = AFNI\n",
       "single_idx = <undefined>\n",
       "start_idx = <undefined>\n",
       "stop_idx = <undefined>\n",
       "terminal_output = stream"
      ]
     },
     "execution_count": 4,
     "metadata": {},
     "output_type": "execute_result"
    }
   ],
   "source": [
    "scale.base_dir = data_dir\n",
    "scale.inputs.out_file = 'scale'\n",
    "scale.inputs.in_file_a = os.path.abspath('../DATA/run001+orig.BRIK')\n",
    "scale.inputs.in_file_b = os.path.abspath('../DATA/mean+orig.BRIK')\n",
    "scale.inputs.expr = 'min(200, a/b*100)*step(a)*step(b)'\n",
    "scale.inputs"
   ]
  },
  {
   "cell_type": "code",
   "execution_count": 5,
   "metadata": {
    "collapsed": false
   },
   "outputs": [
    {
     "data": {
      "text/plain": [
       "'3dcalc -a /home/brain/nipype/ccp/DATA/run001+orig.BRIK  -b /home/brain/nipype/ccp/DATA/mean+orig.BRIK -expr \"min(200, a/b*100)*step(a)*step(b)\" -prefix scale'"
      ]
     },
     "execution_count": 5,
     "metadata": {},
     "output_type": "execute_result"
    }
   ],
   "source": [
    "scale.interface.cmdline"
   ]
  },
  {
   "cell_type": "code",
   "execution_count": 6,
   "metadata": {
    "collapsed": false
   },
   "outputs": [
    {
     "name": "stderr",
     "output_type": "stream",
     "text": [
      "INFO:workflow:Executing node scale in dir: /home/brain/nipype/ccp/DATA/scale\n",
      "INFO:workflow:Running: 3dcalc -a /home/brain/nipype/ccp/DATA/run001+orig.BRIK  -b /home/brain/nipype/ccp/DATA/mean+orig.BRIK -expr \"min(200, a/b*100)*step(a)*step(b)\" -prefix scale\n",
      "INFO:interface:stderr 2016-02-09T15:57:30.067019:++ 3dcalc: AFNI version=AFNI_2011_12_21_1014 (Dec 27 2014) [64-bit]\n",
      "INFO:interface:stderr 2016-02-09T15:57:30.074594:++ Authored by: A cast of thousands\n",
      "INFO:interface:stderr 2016-02-09T15:57:32.141101:++ Output dataset ./scale+orig.BRIK\n"
     ]
    }
   ],
   "source": [
    "res = scale.run()"
   ]
  },
  {
   "cell_type": "code",
   "execution_count": 7,
   "metadata": {
    "collapsed": false
   },
   "outputs": [
    {
     "data": {
      "text/plain": [
       "\n",
       "out_file = /home/brain/nipype/ccp/DATA/scale/scale+orig.BRIK"
      ]
     },
     "execution_count": 7,
     "metadata": {},
     "output_type": "execute_result"
    }
   ],
   "source": [
    "res.outputs"
   ]
  }
 ],
 "metadata": {
  "kernelspec": {
   "display_name": "Python 2",
   "language": "python",
   "name": "python2"
  },
  "language_info": {
   "codemirror_mode": {
    "name": "ipython",
    "version": 2
   },
   "file_extension": ".py",
   "mimetype": "text/x-python",
   "name": "python",
   "nbconvert_exporter": "python",
   "pygments_lexer": "ipython2",
   "version": "2.7.10"
  }
 },
 "nbformat": 4,
 "nbformat_minor": 0
}
