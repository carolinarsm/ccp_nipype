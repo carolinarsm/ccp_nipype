{
 "cells": [
  {
   "cell_type": "code",
   "execution_count": 1,
   "metadata": {
    "collapsed": false
   },
   "outputs": [
    {
     "data": {
      "text/plain": [
       "'/home/brain/nipype/ccp/myafni'"
      ]
     },
     "execution_count": 1,
     "metadata": {},
     "output_type": "execute_result"
    }
   ],
   "source": [
    "import warnings\n",
    "import os\n",
    "import re\n",
    "import sys\n",
    "from nipype.interfaces.afni.base import AFNICommand, AFNICommandInputSpec\n",
    "from nipype.interfaces.base import CommandLineInputSpec, CommandLine, TraitedSpec, traits, File, InputMultiPath, \\\n",
    "    isdefined\n",
    "os.getcwd()"
   ]
  },
  {
   "cell_type": "code",
   "execution_count": 19,
   "metadata": {
    "collapsed": false,
    "scrolled": true
   },
   "outputs": [
    {
     "data": {
      "text/plain": [
       "\n",
       "args = <undefined>\n",
       "environ = {}\n",
       "ignore_exception = False\n",
       "out_file = <undefined>\n",
       "outputtype = <undefined>\n",
       "terminal_output = <undefined>"
      ]
     },
     "execution_count": 19,
     "metadata": {},
     "output_type": "execute_result"
    }
   ],
   "source": [
    "AFNICommand.input_spec()"
   ]
  },
  {
   "cell_type": "code",
   "execution_count": 20,
   "metadata": {
    "collapsed": false
   },
   "outputs": [],
   "source": [
    "from interfaces import CCPDeconvolve"
   ]
  },
  {
   "cell_type": "code",
   "execution_count": 21,
   "metadata": {
    "collapsed": true
   },
   "outputs": [],
   "source": [
    "b = CCPDeconvolve()"
   ]
  },
  {
   "cell_type": "code",
   "execution_count": 22,
   "metadata": {
    "collapsed": false
   },
   "outputs": [],
   "source": [
    "b.inputs.in_file = [ '../run001', '../run002']\n",
    "b.inputs.model = 'BLOCK'\n",
    "b.inputs.polort = 2\n",
    "b.inputs.args = '-num_TR 5'\n",
    "b.inputs.num_stimts = 4\n",
    "b.inputs.xmat = '../hola.1D'\n",
    "b.inputs.out_file = 'deconv'\n",
    "b.inputs.xmat_only = True"
   ]
  },
  {
   "cell_type": "code",
   "execution_count": 23,
   "metadata": {
    "collapsed": false,
    "scrolled": true
   },
   "outputs": [],
   "source": [
    "b.inputs.stimulus = True\n",
    "b.inputs.stim_times=['../onset001.txt', '../onset002.txt', '../onset003.txt']\n",
    "b.inputs.stim_labels=['L1', 'L2', 'L3']"
   ]
  },
  {
   "cell_type": "code",
   "execution_count": 24,
   "metadata": {
    "collapsed": false
   },
   "outputs": [],
   "source": [
    "#warnings.warn(\"hola\")"
   ]
  },
  {
   "cell_type": "code",
   "execution_count": 25,
   "metadata": {
    "collapsed": true
   },
   "outputs": [],
   "source": [
    "b.inputs.glm_contrasts = ['L1-L2', 'L2-L1', '0.5*L1 + 0.5*L2', 'L1', 'L2']\n",
    "b.inputs.glm_labels = ['diff_pos', 'diff_neg', 'mean', 'main_l1', 'main_l2']\n",
    "b.inputs.glms = True"
   ]
  },
  {
   "cell_type": "code",
   "execution_count": 26,
   "metadata": {
    "collapsed": false
   },
   "outputs": [
    {
     "data": {
      "text/plain": [
       "\"3dDeconvolve -input '../run001 ../run002' -polort 2 -num_stimts 4 -stim_times 1 ../onset001.txt 'BLOCK' -stim_label 1 L1 -stim_times 2 ../onset002.txt 'BLOCK' -stim_label 2 L2 -stim_times 3 ../onset003.txt 'BLOCK' -stim_label 3 L3 -gltsym 'SYM: L1-L2' -glt_label 1 diff_pos -gltsym 'SYM: L2-L1' -glt_label 2 diff_neg -gltsym 'SYM: 0.5*L1 + 0.5*L2' -glt_label 3 mean -gltsym 'SYM: L1' -glt_label 4 main_l1 -gltsym 'SYM: L2' -glt_label 5 main_l2 -num_TR 5 -prefix deconv -rn results -x1D ../hola.1D -x1Dstop\""
      ]
     },
     "execution_count": 26,
     "metadata": {},
     "output_type": "execute_result"
    }
   ],
   "source": [
    "b.cmdline"
   ]
  },
  {
   "cell_type": "code",
   "execution_count": 27,
   "metadata": {
    "collapsed": false
   },
   "outputs": [
    {
     "data": {
      "text/plain": [
       "{'out_file': '/home/brain/nipype/ccp/myafni/deconv+orig.BRIK',\n",
       " 'results_dir': <undefined>}"
      ]
     },
     "execution_count": 27,
     "metadata": {},
     "output_type": "execute_result"
    }
   ],
   "source": [
    "b._list_outputs()"
   ]
  },
  {
   "cell_type": "code",
   "execution_count": 28,
   "metadata": {
    "collapsed": false,
    "scrolled": true
   },
   "outputs": [
    {
     "name": "stdout",
     "output_type": "stream",
     "text": [
      "Wraps command **3dDeconvolve**\n",
      "\n",
      "Runs a GLM analysis with a reduced version of AFNI's 3dDeconvolve.\n",
      "Only a subset of AFNI's 3dDeconvolve options are available.\n",
      "For details, see, the `3dDeconvolve documentation.\n",
      "<http://http://afni.nimh.nih.gov/pub/dist/doc/program_help/3dDeconvolve.html>`_\n",
      "Examples\n",
      "========\n",
      "#>>> from ccp.interfaces import CCPDeconvolve\n",
      "#>>> deconvolve = CCPDeconvolve()\n",
      "#>>> deconvolve.inputs.in_files = ['run001', 'run002']\n",
      "#>>> res = deconvolve.run() # doctest: +SKIP\n",
      "\n",
      "Inputs::\n",
      "\n",
      "\t[Mandatory]\n",
      "\tglm_contrasts: (a list of items which are a string)\n",
      "\t\tList of contrast strings, made from the stim_labels inputs.\n",
      "\tglm_labels: (a list of items which are a string)\n",
      "\t\tContrast labels\n",
      "\tglms: (a boolean)\n",
      "\t\tGenerate contrast specifications?\n",
      "\t\tflag: -gltsym 'SYM: %s' -glt_label %s %s, position: 5\n",
      "\tin_file: (a list of at least 1 items which are an existing file name)\n",
      "\t\tInput(s) file(s) to 3dDeconvolve.\n",
      "\t\tflag: -input '%s', position: 1\n",
      "\tmodel: ('BLOCK' or 'GAM' or 'SPLINE')\n",
      "\t\tResponse model\n",
      "\tnum_stimts: (an integer (int or long))\n",
      "\t\tNumber of stimulus time series.\n",
      "\t\tflag: -num_stimts %s, position: 3\n",
      "\tpolort: (an integer (int or long))\n",
      "\t\tHigh pass filter parameter.\n",
      "\t\tflag: -polort %s, position: 2\n",
      "\tstim_labels: (a list of items which are a string)\n",
      "\t\tStimulus labels.\n",
      "\tstim_times: (a list of items which are an existing file name)\n",
      "\t\tFiles with time series, in AFNI format.\n",
      "\tstimulus: (a boolean)\n",
      "\t\tStimulus files and labels\n",
      "\t\tflag: -stim_times %s %s '%s' -stim_label %s %s, position: 4\n",
      "\txmat: (a string)\n",
      "\t\tname for design matrix X\n",
      "\t\tflag: -x1D %s\n",
      "\n",
      "\t[Optional]\n",
      "\targs: (a string)\n",
      "\t\tAdditional parameters to the command\n",
      "\t\tflag: %s\n",
      "\tcensor_list: (an existing file name)\n",
      "\t\t1D file containing the censored points\n",
      "\t\tflag: -censor %s\n",
      "\tenviron: (a dictionary with keys which are a value of type 'str' and\n",
      "\t\t with values which are a value of type 'str', nipype default value:\n",
      "\t\t {})\n",
      "\t\tEnvironment variables\n",
      "\tignore_exception: (a boolean, nipype default value: False)\n",
      "\t\tPrint an error message instead of throwing an exception in case the\n",
      "\t\tinterface fails to run\n",
      "\tmask: (an existing file name)\n",
      "\t\tInput mask image.\n",
      "\t\tflag: -mask %s\n",
      "\tmotion_regs: (an existing file name)\n",
      "\t\tfile with the motion regressors, concatenated for all runs\n",
      "\t\tflag: -ortvec %s mov_reg\n",
      "\tout_file: (a file name)\n",
      "\t\toutput image file name\n",
      "\t\tflag: -prefix %s\n",
      "\toutputtype: ('NIFTI_GZ' or 'AFNI' or 'NIFTI')\n",
      "\t\tAFNI output filetype\n",
      "\tresults_dir: (a directory name, nipype default value: results)\n",
      "\t\tdirectory to store results in\n",
      "\t\tflag: -rn %s\n",
      "\tterminal_output: ('stream' or 'allatonce' or 'file' or 'none')\n",
      "\t\tControl terminal output: `stream` - displays to terminal immediately\n",
      "\t\t(default), `allatonce` - waits till command is finished to display\n",
      "\t\toutput, `file` - writes output to file, `none` - output is ignored\n",
      "\txmat_only: (a boolean)\n",
      "\t\tGenerate the design matrix X, without running the GLM analysis.\n",
      "\t\tflag: -x1Dstop\n",
      "\n",
      "Outputs::\n",
      "\n",
      "\tout_file: (an existing file name)\n",
      "\t\tDesign Matrix\n",
      "\tresults_dir: (an existing directory name)\n",
      "\t\tdirectory storing model estimation output\n",
      "\n"
     ]
    }
   ],
   "source": [
    "b.help()"
   ]
  },
  {
   "cell_type": "code",
   "execution_count": 33,
   "metadata": {
    "collapsed": false
   },
   "outputs": [
    {
     "data": {
      "text/plain": [
       "\n",
       "out_file = <undefined>\n",
       "results_dir = <undefined>"
      ]
     },
     "execution_count": 33,
     "metadata": {},
     "output_type": "execute_result"
    }
   ],
   "source": []
  },
  {
   "cell_type": "code",
   "execution_count": 29,
   "metadata": {
    "collapsed": false
   },
   "outputs": [],
   "source": [
    "from interfaces import NiiInfo"
   ]
  },
  {
   "cell_type": "code",
   "execution_count": 3,
   "metadata": {
    "collapsed": true
   },
   "outputs": [],
   "source": [
    "c = NiiInfo()"
   ]
  },
  {
   "cell_type": "code",
   "execution_count": 4,
   "metadata": {
    "collapsed": false
   },
   "outputs": [
    {
     "data": {
      "text/plain": [
       "\n",
       "args = <undefined>\n",
       "environ = {}\n",
       "ignore_exception = False\n",
       "in_file = <undefined>\n",
       "out_file = <undefined>\n",
       "terminal_output = <undefined>"
      ]
     },
     "execution_count": 4,
     "metadata": {},
     "output_type": "execute_result"
    }
   ],
   "source": [
    "c.input_spec()"
   ]
  },
  {
   "cell_type": "code",
   "execution_count": 5,
   "metadata": {
    "collapsed": false
   },
   "outputs": [
    {
     "name": "stdout",
     "output_type": "stream",
     "text": [
      "Wraps command **3dinfo**\n",
      "\n",
      "\n",
      "Inputs::\n",
      "\n",
      "\t[Mandatory]\n",
      "\tin_file: (an existing file name)\n",
      "\t\tInput file to 3dInfo.\n",
      "\t\tflag: -nv %s, position: 1\n",
      "\n",
      "\t[Optional]\n",
      "\targs: (a string)\n",
      "\t\tAdditional parameters to the command\n",
      "\t\tflag: %s\n",
      "\tenviron: (a dictionary with keys which are a value of type 'str' and\n",
      "\t\t with values which are a value of type 'str', nipype default value:\n",
      "\t\t {})\n",
      "\t\tEnvironment variables\n",
      "\tignore_exception: (a boolean, nipype default value: False)\n",
      "\t\tPrint an error message instead of throwing an exception in case the\n",
      "\t\tinterface fails to run\n",
      "\tout_file: (a string)\n",
      "\t\tOutput file name.\n",
      "\tterminal_output: ('stream' or 'allatonce' or 'file' or 'none')\n",
      "\t\tControl terminal output: `stream` - displays to terminal immediately\n",
      "\t\t(default), `allatonce` - waits till command is finished to display\n",
      "\t\toutput, `file` - writes output to file, `none` - output is ignored\n",
      "\n",
      "Outputs::\n",
      "\n",
      "\tout_file: (a string)\n",
      "\ttr_value: (a string)\n",
      "\n"
     ]
    }
   ],
   "source": [
    "c.help()"
   ]
  },
  {
   "cell_type": "code",
   "execution_count": 16,
   "metadata": {
    "collapsed": true
   },
   "outputs": [],
   "source": [
    "c.inputs.in_file='../../data/sub001/run002.nii.gz'\n",
    "#c.inputs.args = '-nv'\n",
    "c.inputs.terminal_output = 'stream'\n",
    "c.inputs.out_file='meh.txt'"
   ]
  },
  {
   "cell_type": "code",
   "execution_count": 17,
   "metadata": {
    "collapsed": false
   },
   "outputs": [
    {
     "data": {
      "text/plain": [
       "\n",
       "args = <undefined>\n",
       "environ = {}\n",
       "ignore_exception = False\n",
       "in_file = ../../data/sub001/run002.nii.gz\n",
       "out_file = meh.txt\n",
       "terminal_output = stream"
      ]
     },
     "execution_count": 17,
     "metadata": {},
     "output_type": "execute_result"
    }
   ],
   "source": [
    "c.inputs"
   ]
  },
  {
   "cell_type": "code",
   "execution_count": 8,
   "metadata": {
    "collapsed": false
   },
   "outputs": [
    {
     "data": {
      "text/plain": [
       "\n",
       "out_file = <undefined>\n",
       "tr_value = <undefined>"
      ]
     },
     "execution_count": 8,
     "metadata": {},
     "output_type": "execute_result"
    }
   ],
   "source": [
    "c.output_spec()\n"
   ]
  },
  {
   "cell_type": "code",
   "execution_count": 9,
   "metadata": {
    "collapsed": false
   },
   "outputs": [
    {
     "data": {
      "text/plain": [
       "'3dinfo -nv ../../data/sub001/run002.nii.gz'"
      ]
     },
     "execution_count": 9,
     "metadata": {},
     "output_type": "execute_result"
    }
   ],
   "source": [
    "c.cmdline"
   ]
  },
  {
   "cell_type": "code",
   "execution_count": 10,
   "metadata": {
    "collapsed": false
   },
   "outputs": [
    {
     "data": {
      "text/plain": [
       "\n",
       "out_file = <undefined>\n",
       "tr_value = <undefined>"
      ]
     },
     "execution_count": 10,
     "metadata": {},
     "output_type": "execute_result"
    }
   ],
   "source": [
    "c._outputs()"
   ]
  },
  {
   "cell_type": "code",
   "execution_count": 11,
   "metadata": {
    "collapsed": false
   },
   "outputs": [
    {
     "name": "stderr",
     "output_type": "stream",
     "text": [
      "INFO:interface:stdout 2016-01-25T15:48:22.657032:146\n"
     ]
    },
    {
     "data": {
      "text/plain": [
       "<nipype.interfaces.base.InterfaceResult at 0x7f0cc8c7dbd0>"
      ]
     },
     "execution_count": 11,
     "metadata": {},
     "output_type": "execute_result"
    }
   ],
   "source": [
    "c.run()"
   ]
  },
  {
   "cell_type": "code",
   "execution_count": 12,
   "metadata": {
    "collapsed": false
   },
   "outputs": [],
   "source": [
    "#cat meh.txt"
   ]
  },
  {
   "cell_type": "code",
   "execution_count": 13,
   "metadata": {
    "collapsed": false
   },
   "outputs": [
    {
     "data": {
      "text/plain": [
       "\n",
       "out_file = <undefined>\n",
       "tr_value = <undefined>"
      ]
     },
     "execution_count": 13,
     "metadata": {},
     "output_type": "execute_result"
    }
   ],
   "source": [
    "c._outputs()"
   ]
  },
  {
   "cell_type": "code",
   "execution_count": 14,
   "metadata": {
    "collapsed": false
   },
   "outputs": [
    {
     "data": {
      "text/plain": [
       "\n",
       "out_file = <undefined>\n",
       "tr_value = <undefined>"
      ]
     },
     "execution_count": 14,
     "metadata": {},
     "output_type": "execute_result"
    }
   ],
   "source": [
    "c._outputs()"
   ]
  },
  {
   "cell_type": "code",
   "execution_count": 15,
   "metadata": {
    "collapsed": false
   },
   "outputs": [
    {
     "ename": "NameError",
     "evalue": "name 'CCPDeconvolve' is not defined",
     "output_type": "error",
     "traceback": [
      "\u001b[1;31m---------------------------------------------------------------------------\u001b[0m",
      "\u001b[1;31mNameError\u001b[0m                                 Traceback (most recent call last)",
      "\u001b[1;32m<ipython-input-15-c58400e0d6dc>\u001b[0m in \u001b[0;36m<module>\u001b[1;34m()\u001b[0m\n\u001b[1;32m----> 1\u001b[1;33m \u001b[0mCCPDeconvolve\u001b[0m\u001b[1;33m.\u001b[0m\u001b[0m__name__\u001b[0m\u001b[1;33m\u001b[0m\u001b[0m\n\u001b[0m",
      "\u001b[1;31mNameError\u001b[0m: name 'CCPDeconvolve' is not defined"
     ]
    }
   ],
   "source": [
    "CCPDeconvolve.__name__"
   ]
  },
  {
   "cell_type": "code",
   "execution_count": 21,
   "metadata": {
    "collapsed": false
   },
   "outputs": [
    {
     "data": {
      "text/plain": [
       "interfaces.CCPDeconvolve"
      ]
     },
     "execution_count": 21,
     "metadata": {},
     "output_type": "execute_result"
    }
   ],
   "source": [
    "b.__class__"
   ]
  },
  {
   "cell_type": "code",
   "execution_count": 22,
   "metadata": {
    "collapsed": false
   },
   "outputs": [
    {
     "data": {
      "text/plain": [
       "{'_environ': None,\n",
       " '_outputtype': 'AFNI',\n",
       " '_terminal_output': 'stream',\n",
       " 'inputs': \n",
       " args = -num_TR 5\n",
       " censor_list = <undefined>\n",
       " environ = {}\n",
       " glm_contrasts = ['L1-L2', 'L2-L1', '0.5*L1 + 0.5*L2', 'L1', 'L2']\n",
       " glm_labels = ['diff_pos', 'diff_neg', 'mean', 'main_l1', 'main_l2']\n",
       " glms = True\n",
       " ignore_exception = False\n",
       " in_file = ['../run001', '../run002']\n",
       " mask = <undefined>\n",
       " model = BLOCK\n",
       " motion_regs = <undefined>\n",
       " num_stimts = 4\n",
       " out_file = deconv\n",
       " outputtype = AFNI\n",
       " polort = 2\n",
       " results_dir = results\n",
       " stim_labels = ['L1', 'L2', 'L3']\n",
       " stim_times = ['../onset001.txt', '../onset002.txt', '../onset003.txt']\n",
       " stimulus = True\n",
       " terminal_output = stream\n",
       " xmat = ../hola.1D\n",
       " xmat_only = True}"
      ]
     },
     "execution_count": 22,
     "metadata": {},
     "output_type": "execute_result"
    }
   ],
   "source": [
    "b.__dict__"
   ]
  },
  {
   "cell_type": "code",
   "execution_count": 23,
   "metadata": {
    "collapsed": false
   },
   "outputs": [
    {
     "data": {
      "text/plain": [
       "{'_environ': None, '_terminal_output': 'stream', 'inputs': \n",
       " args = -nv\n",
       " environ = {}\n",
       " ignore_exception = False\n",
       " in_file = ../../data/sub001/run002.nii.gz\n",
       " out_file = meh.txt\n",
       " terminal_output = stream}"
      ]
     },
     "execution_count": 23,
     "metadata": {},
     "output_type": "execute_result"
    }
   ],
   "source": [
    "c.__dict__"
   ]
  },
  {
   "cell_type": "code",
   "execution_count": 24,
   "metadata": {
    "collapsed": false
   },
   "outputs": [],
   "source": [
    "L=traits.List()\n"
   ]
  },
  {
   "cell_type": "code",
   "execution_count": 25,
   "metadata": {
    "collapsed": false
   },
   "outputs": [],
   "source": [
    "from interfaces import OneDTool"
   ]
  },
  {
   "cell_type": "code",
   "execution_count": 26,
   "metadata": {
    "collapsed": false
   },
   "outputs": [],
   "source": [
    "oned = OneDTool()"
   ]
  },
  {
   "cell_type": "code",
   "execution_count": 27,
   "metadata": {
    "collapsed": false
   },
   "outputs": [
    {
     "data": {
      "text/plain": [
       "\n",
       "args = <undefined>\n",
       "environ = {}\n",
       "ignore_exception = False\n",
       "in_file = <undefined>\n",
       "out_file = <undefined>\n",
       "outputtype = <undefined>\n",
       "terminal_output = <undefined>\n",
       "tr_counts = <undefined>"
      ]
     },
     "execution_count": 27,
     "metadata": {},
     "output_type": "execute_result"
    }
   ],
   "source": [
    "oned.input_spec()"
   ]
  },
  {
   "cell_type": "code",
   "execution_count": 30,
   "metadata": {
    "collapsed": false
   },
   "outputs": [],
   "source": [
    "oned.inputs.in_file = './meh.txt'\n",
    "oned.inputs.out_file = '1d_out.txt'\n",
    "oned.inputs.tr_counts = [ 950, 930, 900, 110]"
   ]
  },
  {
   "cell_type": "code",
   "execution_count": 31,
   "metadata": {
    "collapsed": false
   },
   "outputs": [
    {
     "data": {
      "text/plain": [
       "'1d_too.py -infile ./meh.txt -write 1d_out.txt -set_run_lenghts 950 930 900 110'"
      ]
     },
     "execution_count": 31,
     "metadata": {},
     "output_type": "execute_result"
    }
   ],
   "source": [
    "oned.cmdline"
   ]
  },
  {
   "cell_type": "code",
   "execution_count": 1,
   "metadata": {
    "collapsed": false
   },
   "outputs": [
    {
     "data": {
      "text/plain": [
       "'/home/brain/nipype/ccp/myafni'"
      ]
     },
     "execution_count": 1,
     "metadata": {},
     "output_type": "execute_result"
    }
   ],
   "source": [
    "## GLM WORKING EXAMPLE\n",
    "\n",
    "import warnings\n",
    "import os\n",
    "import re\n",
    "import sys\n",
    "from nipype.interfaces.afni.base import AFNICommand, AFNICommandInputSpec\n",
    "from nipype.interfaces.base import CommandLineInputSpec, CommandLine, TraitedSpec, traits, File, InputMultiPath, \\\n",
    "    isdefined\n",
    "os.getcwd()"
   ]
  },
  {
   "cell_type": "code",
   "execution_count": 2,
   "metadata": {
    "collapsed": false
   },
   "outputs": [],
   "source": [
    "wd = os.getcwd()\n",
    "from interfaces import CCPDeconvolve, OneDTool, NiiInfo\n",
    "os.chdir('../DATA/sub001/')\n"
   ]
  },
  {
   "cell_type": "code",
   "execution_count": 3,
   "metadata": {
    "collapsed": false
   },
   "outputs": [
    {
     "name": "stdout",
     "output_type": "stream",
     "text": [
      "3dDeconvolve.err           \u001b[0m\u001b[01;32monset_run002_cond003.txt\u001b[0m*  \u001b[01;32mrun002.nii.gz\u001b[0m*\r\n",
      "behavdata_run001.txt       \u001b[01;32monset_run002_cond004.txt\u001b[0m*  stats.REML_cmd\r\n",
      "behavdata_run002.txt       onsets_COND001_ALL.txt     struct_afni+orig.BRIK\r\n",
      "\u001b[01;32monset_run001_cond001.txt\u001b[0m*  onsets_COND003_ALL.txt     struct_afni+orig.HEAD\r\n",
      "\u001b[01;32monset_run001_cond002.txt\u001b[0m*  run001_afni+orig.BRIK      \u001b[01;31mstruct_bet.nii.gz\u001b[0m\r\n",
      "\u001b[01;32monset_run001_cond003.txt\u001b[0m*  run001_afni+orig.HEAD      \u001b[01;31mstruct.nii.gz\u001b[0m\r\n",
      "\u001b[01;32monset_run001_cond004.txt\u001b[0m*  \u001b[01;32mrun001.nii.gz\u001b[0m*             X.1D\r\n",
      "\u001b[01;32monset_run002_cond001.txt\u001b[0m*  run002_afni+orig.BRIK\r\n",
      "\u001b[01;32monset_run002_cond002.txt\u001b[0m*  run002_afni+orig.HEAD\r\n"
     ]
    }
   ],
   "source": [
    "ls"
   ]
  },
  {
   "cell_type": "code",
   "execution_count": 4,
   "metadata": {
    "collapsed": false
   },
   "outputs": [],
   "source": [
    "glm = CCPDeconvolve()\n"
   ]
  },
  {
   "cell_type": "code",
   "execution_count": 5,
   "metadata": {
    "collapsed": false
   },
   "outputs": [],
   "source": [
    "glm.inputs.in_file = [ 'run001_afni+orig.HEAD' , 'run002_afni+orig.HEAD']\n",
    "glm.inputs.model = 'BLOCK'\n",
    "glm.inputs.polort = 5\n",
    "glm.inputs.num_stimts = 2\n",
    "glm.inputs.xmat = 'X.1D'\n",
    "glm.inputs.out_file = 'stats'\n",
    "glm.inputs.xmat_only = True\n"
   ]
  },
  {
   "cell_type": "code",
   "execution_count": 6,
   "metadata": {
    "collapsed": false
   },
   "outputs": [],
   "source": [
    "glm.inputs.stimulus = True\n",
    "glm.inputs.stim_times=['onsets_COND001_ALL.txt', 'onsets_COND003_ALL.txt']\n",
    "glm.inputs.stim_labels=['C1', 'C3']"
   ]
  },
  {
   "cell_type": "code",
   "execution_count": 7,
   "metadata": {
    "collapsed": true
   },
   "outputs": [],
   "source": [
    "glm.inputs.glm_contrasts = ['C1 -C3', 'C3 -C1', '0.5*C1 +0.5*C3']\n",
    "glm.inputs.glm_labels = ['diff_pos', 'diff_neg', 'mean']\n",
    "glm.inputs.glms = True"
   ]
  },
  {
   "cell_type": "code",
   "execution_count": 8,
   "metadata": {
    "collapsed": false
   },
   "outputs": [
    {
     "data": {
      "text/plain": [
       "\n",
       "args = <undefined>\n",
       "censor_list = <undefined>\n",
       "environ = {}\n",
       "glm_contrasts = ['C1 -C3', 'C3 -C1', '0.5*C1 +0.5*C3']\n",
       "glm_labels = ['diff_pos', 'diff_neg', 'mean']\n",
       "glms = True\n",
       "ignore_exception = False\n",
       "in_file = ['run001_afni+orig.HEAD', 'run002_afni+orig.HEAD']\n",
       "mask = <undefined>\n",
       "model = BLOCK\n",
       "motion_regs = <undefined>\n",
       "num_stimts = 2\n",
       "out_file = stats\n",
       "outputtype = AFNI\n",
       "polort = 5\n",
       "stim_labels = ['C1', 'C3']\n",
       "stim_times = ['onsets_COND001_ALL.txt', 'onsets_COND003_ALL.txt']\n",
       "stimulus = True\n",
       "terminal_output = stream\n",
       "xmat = X.1D\n",
       "xmat_only = True"
      ]
     },
     "execution_count": 8,
     "metadata": {},
     "output_type": "execute_result"
    }
   ],
   "source": [
    "glm.inputs"
   ]
  },
  {
   "cell_type": "code",
   "execution_count": 9,
   "metadata": {
    "collapsed": false
   },
   "outputs": [
    {
     "data": {
      "text/plain": [
       "\"3dDeconvolve -input 'run001_afni+orig.HEAD run002_afni+orig.HEAD' -polort 5 -num_stimts 2 -stim_times 1 onsets_COND001_ALL.txt 'BLOCK' -stim_label 1 C1 -stim_times 2 onsets_COND003_ALL.txt 'BLOCK' -stim_label 2 C3 -gltsym 'SYM: C1 -C3' -glt_label 1 diff_pos -gltsym 'SYM: C3 -C1' -glt_label 2 diff_neg -gltsym 'SYM: 0.5*C1 +0.5*C3' -glt_label 3 mean -prefix stats -x1D X.1D -x1D_stop\""
      ]
     },
     "execution_count": 9,
     "metadata": {},
     "output_type": "execute_result"
    }
   ],
   "source": [
    "glm.cmdline"
   ]
  },
  {
   "cell_type": "code",
   "execution_count": 10,
   "metadata": {
    "collapsed": false
   },
   "outputs": [
    {
     "data": {
      "text/plain": [
       "\"3dDeconvolve -input 'run001_afni+orig.HEAD run002_afni+orig.HEAD' -polort 5 -num_stimts 2 -stim_times 1 onsets_COND001_ALL.txt 'BLOCK(2,1)' -stim_label 1 C1 -stim_times 2 onsets_COND003_ALL.txt 'BLOCK(2,1)' -stim_label 2 C3 -gltsym 'SYM: C1 -C3' -glt_label 1 diff_pos -gltsym 'SYM: C3 -C1' -glt_label 2 diff_neg -gltsym 'SYM: 0.5*C1 +0.5*C3' -glt_label 3 mean -prefix stats -x1D X.1D -x1D_stop\""
      ]
     },
     "execution_count": 10,
     "metadata": {},
     "output_type": "execute_result"
    }
   ],
   "source": [
    "glm.inputs.model = 'BLOCK(1,1)'\n",
    "glm.cmdline"
   ]
  },
  {
   "cell_type": "code",
   "execution_count": null,
   "metadata": {
    "collapsed": true
   },
   "outputs": [],
   "source": []
  },
  {
   "cell_type": "code",
   "execution_count": 11,
   "metadata": {
    "collapsed": false
   },
   "outputs": [
    {
     "name": "stderr",
     "output_type": "stream",
     "text": [
      "INFO:interface:stderr 2016-01-26T17:55:00.171795:++ 3dDeconvolve: AFNI version=AFNI_2011_12_21_1014 (Dec 27 2014) [64-bit]\n",
      "INFO:interface:stderr 2016-01-26T17:55:00.181837:++ Authored by: B. Douglas Ward, et al.\n",
      "INFO:interface:stderr 2016-01-26T17:55:00.185994:++ Auto-catenated input datasets treated as multiple imaging runs\n",
      "INFO:interface:stderr 2016-01-26T17:55:00.188229:++ Auto-catenated datasets start at:  0 146\n",
      "INFO:interface:stderr 2016-01-26T17:55:01.648022:++ STAT automask has 37685 voxels (out of 163840 = 23.0%)\n",
      "INFO:interface:stderr 2016-01-26T17:55:01.656177:++ Skipping check for initial transients\n",
      "INFO:interface:stderr 2016-01-26T17:55:01.657450:*+ WARNING: Input polort=5; Longest run=292000.0 s; Recommended minimum polort=1947\n",
      "INFO:interface:stderr 2016-01-26T17:55:01.658588:++ -stim_times using TR=2000 s for stimulus timing conversion\n",
      "INFO:interface:stderr 2016-01-26T17:55:01.659464:++ -stim_times using TR=2000 s for any -iresp output datasets\n",
      "INFO:interface:stderr 2016-01-26T17:55:01.660220:++  [you can alter the -iresp TR via the -TR_times option]\n",
      "INFO:interface:stderr 2016-01-26T17:55:01.660950:++ ** -stim_times NOTE ** guessing GLOBAL times if 1 time per line; LOCAL otherwise\n",
      "INFO:interface:stderr 2016-01-26T17:55:01.661671:++ ** GUESSED ** -stim_times 1 using LOCAL times\n",
      "INFO:interface:stderr 2016-01-26T17:55:01.663037:*+ WARNING: '-stim_times 1' file 'onsets_COND001_ALL.txt' has 0 duplicate and 132 near-duplicate times ???\n",
      "INFO:interface:stdout 2016-01-26T17:55:01.667842:------------------------------------------------------------\n",
      "INFO:interface:stdout 2016-01-26T17:55:01.667842:GLT matrix from 'SYM: C1 -C3':\n",
      "INFO:interface:stdout 2016-01-26T17:55:01.667842:   0   0   0   0   0   0   0   0   0   0   0   0   1  -1 \n",
      "INFO:interface:stdout 2016-01-26T17:55:01.667842: \n",
      "INFO:interface:stdout 2016-01-26T17:55:01.667842:------------------------------------------------------------\n",
      "INFO:interface:stdout 2016-01-26T17:55:01.667842:GLT matrix from 'SYM: C3 -C1':\n",
      "INFO:interface:stdout 2016-01-26T17:55:01.667842:   0   0   0   0   0   0   0   0   0   0   0   0  -1   1 \n",
      "INFO:interface:stdout 2016-01-26T17:55:01.667842: \n",
      "INFO:interface:stdout 2016-01-26T17:55:01.667842:------------------------------------------------------------\n",
      "INFO:interface:stdout 2016-01-26T17:55:01.667842:GLT matrix from 'SYM: 0.5*C1 +0.5*C3':\n",
      "INFO:interface:stdout 2016-01-26T17:55:01.667842:          0          0          0          0          0          0          0          0          0          0          0          0        0.5        0.5 \n",
      "INFO:interface:stdout 2016-01-26T17:55:01.667842: \n",
      "INFO:interface:stderr 2016-01-26T17:55:01.686339: +  Where 'near-duplicate' means within 50% of one TR\n",
      "INFO:interface:stderr 2016-01-26T17:55:01.686339:++ ** GUESSED ** -stim_times 2 using LOCAL times\n",
      "INFO:interface:stderr 2016-01-26T17:55:01.686339:*+ WARNING: '-stim_times 2' file 'onsets_COND003_ALL.txt' has 0 duplicate and 121 near-duplicate times ???\n",
      "INFO:interface:stderr 2016-01-26T17:55:01.686339: +  Where 'near-duplicate' means within 50% of one TR\n",
      "INFO:interface:stderr 2016-01-26T17:55:01.686339:++ Number of time points: 292 (no censoring)\n",
      "INFO:interface:stderr 2016-01-26T17:55:01.686339: + Number of parameters:  14 [12 baseline ; 2 signal]\n",
      "INFO:interface:stderr 2016-01-26T17:55:01.686339:++ Memory required for output bricks = 3,932,160 bytes (about 3.9 million [mega])\n",
      "INFO:interface:stderr 2016-01-26T17:55:01.686339:++ Wrote matrix values to file X.1D\n",
      "INFO:interface:stderr 2016-01-26T17:55:01.686339:++ ========= Things you can do with the matrix file =========\n",
      "INFO:interface:stderr 2016-01-26T17:55:01.686339:++ (a) Linear regression with ARMA(1,1) modeling of serial correlation:\n",
      "INFO:interface:stderr 2016-01-26T17:55:01.686339:\n",
      "INFO:interface:stderr 2016-01-26T17:55:01.686339:3dREMLfit -matrix X.1D \\\n",
      "INFO:interface:stderr 2016-01-26T17:55:01.686339: -input \"run001_afni+orig.HEAD run002_afni+orig.HEAD\" \\\n",
      "INFO:interface:stderr 2016-01-26T17:55:01.686339: -Rbuck stats_REML -Rvar stats_REMLvar -verb\n",
      "INFO:interface:stderr 2016-01-26T17:55:01.686339: \n",
      "INFO:interface:stderr 2016-01-26T17:55:01.686339:++ N.B.: 3dREMLfit command above written to file stats.REML_cmd\n",
      "INFO:interface:stderr 2016-01-26T17:55:01.686339:++ (b) Visualization/analysis of the matrix via ExamineXmat.R\n",
      "INFO:interface:stderr 2016-01-26T17:55:01.686339:++ (c) Synthesis of sub-model datasets using 3dSynthesize\n",
      "INFO:interface:stderr 2016-01-26T17:55:01.686339:++ ==========================================================\n",
      "INFO:interface:stderr 2016-01-26T17:55:01.686339:*+ WARNING: -------------------------------------------------\n",
      "INFO:interface:stderr 2016-01-26T17:55:01.686339:*+ WARNING: Problems with the X matrix columns, listed below:\n",
      "INFO:interface:stderr 2016-01-26T17:55:01.686339:*+ WARNING: !! * Column 12 [C1#0] is all zeros\n",
      "INFO:interface:stderr 2016-01-26T17:55:01.686339:*+ WARNING: !! * Column 13 [C3#0] is all zeros\n",
      "INFO:interface:stderr 2016-01-26T17:55:01.686339:*+ WARNING: -------------------------------------------------\n",
      "INFO:interface:stderr 2016-01-26T17:55:01.686339:++ ----- Signal+Baseline matrix condition [X] (292x14):  1.03725  ++ VERY GOOD ++\n",
      "INFO:interface:stderr 2016-01-26T17:55:01.686339:*+ WARNING: !! in Signal+Baseline matrix:\n",
      "INFO:interface:stderr 2016-01-26T17:55:01.686339: * Largest singular value=1.04291\n",
      "INFO:interface:stderr 2016-01-26T17:55:01.686339: * 2 singular values are less than cutoff=1.04291e-07\n",
      "INFO:interface:stderr 2016-01-26T17:55:01.686339: * Implies strong collinearity in the matrix columns! \n",
      "INFO:interface:stderr 2016-01-26T17:55:01.686339:++ Signal+Baseline matrix singular values:\n",
      "INFO:interface:stderr 2016-01-26T17:55:01.686339:             0             0      0.969345      0.969345      0.977196\n",
      "INFO:interface:stderr 2016-01-26T17:55:01.686339:      0.977196      0.986257      0.986257             1             1\n",
      "INFO:interface:stderr 2016-01-26T17:55:01.686339:        1.0223        1.0223       1.04291       1.04291\n",
      "INFO:interface:stderr 2016-01-26T17:55:01.686339:** ERROR: ----- !! Signal-only matrix condition:  UNDEFINED ** VERY BAD **\n",
      "INFO:interface:stderr 2016-01-26T17:55:01.686339:++ Signal-only matrix singular values:\n",
      "INFO:interface:stderr 2016-01-26T17:55:01.686339:             0             0\n",
      "INFO:interface:stderr 2016-01-26T17:55:01.686339:++ ----- Baseline-only matrix condition [X] (292x12):  1.03725  ++ VERY GOOD ++\n",
      "INFO:interface:stderr 2016-01-26T17:55:01.686339:++ ----- polort-only matrix condition [X] (292x12):  1.03725  ++ VERY GOOD ++\n",
      "INFO:interface:stderr 2016-01-26T17:55:01.686339:++ 3dDeconvolve exits: -x1D_stop option was invoked\n"
     ]
    },
    {
     "data": {
      "text/plain": [
       "<nipype.interfaces.base.InterfaceResult at 0x7f787ab8fbd0>"
      ]
     },
     "execution_count": 11,
     "metadata": {},
     "output_type": "execute_result"
    }
   ],
   "source": [
    "glm.run()"
   ]
  },
  {
   "cell_type": "code",
   "execution_count": 15,
   "metadata": {
    "collapsed": false
   },
   "outputs": [
    {
     "data": {
      "text/plain": [
       "\"3dDeconvolve -input 'run001_afni+orig.HEAD run002_afni+orig.HEAD' -polort 2 -num_stimts 2 -stim_times 1 onsets_COND001_ALL.txt 'BLOCK(2,1)' -stim_label 1 C1 -stim_times 2 onsets_COND003_ALL.txt 'BLOCK(2,1)' -stim_label 2 C3 -gltsym 'SYM: C1 -C3' -glt_label 1 diff_pos -gltsym 'SYM: C3 -C1' -glt_label 2 diff_neg -gltsym 'SYM: 0.5*C1 +0.5*C3' -glt_label 3 mean -prefix stats -x1D X.1D -x1D_stop\""
      ]
     },
     "execution_count": 15,
     "metadata": {},
     "output_type": "execute_result"
    }
   ],
   "source": [
    "glm.cmdline"
   ]
  },
  {
   "cell_type": "code",
   "execution_count": null,
   "metadata": {
    "collapsed": true
   },
   "outputs": [],
   "source": []
  }
 ],
 "metadata": {
  "kernelspec": {
   "display_name": "Python 2",
   "language": "python",
   "name": "python2"
  },
  "language_info": {
   "codemirror_mode": {
    "name": "ipython",
    "version": 2
   },
   "file_extension": ".py",
   "mimetype": "text/x-python",
   "name": "python",
   "nbconvert_exporter": "python",
   "pygments_lexer": "ipython2",
   "version": "2.7.10"
  }
 },
 "nbformat": 4,
 "nbformat_minor": 0
}
