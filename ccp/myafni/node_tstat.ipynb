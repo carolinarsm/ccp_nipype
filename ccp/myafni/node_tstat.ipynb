{
 "cells": [
  {
   "cell_type": "code",
   "execution_count": 1,
   "metadata": {
    "collapsed": false
   },
   "outputs": [
    {
     "name": "stdout",
     "output_type": "stream",
     "text": [
      "/home/brain/nipype/ccp/DATA\n",
      "['mask_001+orig.HEAD', 'run002+orig.BRIK', 'run002+orig.HEAD', 'run001+orig.BRIK', 'sub003', 'automask', 'sub001', 'union', 'run001+orig.HEAD', 'mask_002+orig.BRIK', 'my_workflow', 'mask_002+orig.HEAD', 'mask_001+orig.BRIK']\n"
     ]
    }
   ],
   "source": [
    "import os\n",
    "from nipype.interfaces import afni as afni\n",
    "import nipype.pipeline.engine as pe \n",
    "import nipype.interfaces.io as nio\n",
    "import nipype.interfaces.utility as util\n",
    "\n",
    "import warnings\n",
    "import re\n",
    "import sys\n",
    "from nipype.interfaces.afni.base import AFNICommand, AFNICommandInputSpec\n",
    "from nipype.interfaces.base import CommandLineInputSpec, CommandLine, TraitedSpec, traits, File, InputMultiPath, \\\n",
    "    isdefined\n",
    "\n",
    "data_dir = os.path.abspath('../DATA')\n",
    "print data_dir\n",
    "print os.listdir(data_dir)\n",
    "import glob"
   ]
  },
  {
   "cell_type": "code",
   "execution_count": 2,
   "metadata": {
    "collapsed": false
   },
   "outputs": [],
   "source": [
    "mean = pe.Node(interface=afni.TStat(),\n",
    "              name='mean')"
   ]
  },
  {
   "cell_type": "code",
   "execution_count": 3,
   "metadata": {
    "collapsed": false
   },
   "outputs": [
    {
     "data": {
      "text/plain": [
       "\n",
       "args = <undefined>\n",
       "environ = {}\n",
       "ignore_exception = False\n",
       "in_file = /home/brain/nipype/ccp/DATA/run001+orig.BRIK\n",
       "mask = <undefined>\n",
       "options = <undefined>\n",
       "out_file = mean\n",
       "outputtype = AFNI\n",
       "terminal_output = stream"
      ]
     },
     "execution_count": 3,
     "metadata": {},
     "output_type": "execute_result"
    }
   ],
   "source": [
    "mean.base_dir = data_dir\n",
    "mean.inputs.out_file = 'mean'\n",
    "mean.inputs.in_file = os.path.abspath('../DATA/run001+orig.BRIK')\n",
    "mean.inputs"
   ]
  },
  {
   "cell_type": "code",
   "execution_count": 4,
   "metadata": {
    "collapsed": false
   },
   "outputs": [
    {
     "data": {
      "text/plain": [
       "'3dTstat -prefix mean /home/brain/nipype/ccp/DATA/run001+orig.BRIK'"
      ]
     },
     "execution_count": 4,
     "metadata": {},
     "output_type": "execute_result"
    }
   ],
   "source": [
    "mean.interface.cmdline"
   ]
  },
  {
   "cell_type": "code",
   "execution_count": 5,
   "metadata": {
    "collapsed": false
   },
   "outputs": [
    {
     "name": "stderr",
     "output_type": "stream",
     "text": [
      "INFO:workflow:Executing node mean in dir: /home/brain/nipype/ccp/DATA/mean\n",
      "INFO:workflow:Running: 3dTstat -prefix mean /home/brain/nipype/ccp/DATA/mean/run001+orig.BRIK\n",
      "INFO:interface:stderr 2016-02-09T15:49:22.144017:++ 3dTstat: AFNI version=AFNI_2011_12_21_1014 (Dec 27 2014) [64-bit]\n",
      "INFO:interface:stderr 2016-02-09T15:49:22.148757:++ Authored by: KR Hammett & RW Cox\n",
      "INFO:interface:stderr 2016-02-09T15:49:22.723199:++ Output dataset ./mean+orig.BRIK\n"
     ]
    }
   ],
   "source": [
    "res = mean.run()"
   ]
  },
  {
   "cell_type": "code",
   "execution_count": 6,
   "metadata": {
    "collapsed": false
   },
   "outputs": [
    {
     "data": {
      "text/plain": [
       "\n",
       "out_file = /home/brain/nipype/ccp/DATA/mean/mean+orig.BRIK"
      ]
     },
     "execution_count": 6,
     "metadata": {},
     "output_type": "execute_result"
    }
   ],
   "source": [
    "res.outputs"
   ]
  },
  {
   "cell_type": "code",
   "execution_count": 20,
   "metadata": {
    "collapsed": true
   },
   "outputs": [],
   "source": [
    "# INTERFACE\n",
    "# 3dTstat -prefix mean infile"
   ]
  },
  {
   "cell_type": "code",
   "execution_count": 21,
   "metadata": {
    "collapsed": true
   },
   "outputs": [],
   "source": [
    "a = afni.TStat()"
   ]
  },
  {
   "cell_type": "code",
   "execution_count": 18,
   "metadata": {
    "collapsed": true
   },
   "outputs": [],
   "source": [
    "a.inputs.in_file = os.path.abspath('../DATA/run001+orig.BRIK') \n",
    "a.inputs.out_file = 'mean'"
   ]
  },
  {
   "cell_type": "code",
   "execution_count": 19,
   "metadata": {
    "collapsed": false
   },
   "outputs": [
    {
     "name": "stderr",
     "output_type": "stream",
     "text": [
      "INFO:interface:stderr 2016-02-09T15:42:14.829106:++ 3dTstat: AFNI version=AFNI_2011_12_21_1014 (Dec 27 2014) [64-bit]\n",
      "INFO:interface:stderr 2016-02-09T15:42:14.845099:++ Authored by: KR Hammett & RW Cox\n",
      "INFO:interface:stderr 2016-02-09T15:42:15.466093:** ERROR: output dataset name 'mean' conflicts with existing file\n",
      "INFO:interface:stderr 2016-02-09T15:42:15.472051:** ERROR: dataset NOT written to disk!\n"
     ]
    }
   ],
   "source": [
    "a.run()"
   ]
  }
 ],
 "metadata": {
  "kernelspec": {
   "display_name": "Python 2",
   "language": "python",
   "name": "python2"
  },
  "language_info": {
   "codemirror_mode": {
    "name": "ipython",
    "version": 2
   },
   "file_extension": ".py",
   "mimetype": "text/x-python",
   "name": "python",
   "nbconvert_exporter": "python",
   "pygments_lexer": "ipython2",
   "version": "2.7.10"
  }
 },
 "nbformat": 4,
 "nbformat_minor": 0
}
